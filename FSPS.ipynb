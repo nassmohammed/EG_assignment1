{
 "cells": [
  {
   "cell_type": "markdown",
   "metadata": {},
   "source": [
    "# FSPS Examples for AST2040"
   ]
  },
  {
   "cell_type": "markdown",
   "metadata": {},
   "source": [
    "Documentation for the Python FSPS bindings is here: \n",
    "\n",
    "http://dfm.io/python-fsps/current/stellarpop_api/#api-reference\n",
    "\n",
    "To use the Python bindings you first need to install Charlie Conroy's Flexible Stellar Population Synthsis (FSPS) Fortran code, which you can find here:\n",
    "\n",
    "https://github.com/cconroy20/fsps\n",
    "\n",
    "These are the papers which describe FSPS:\n",
    "\n",
    "- Conroy, Gunn, & White 2009, ApJ, 699, 486\n",
    "- Conroy & Gunn 2010, ApJ, 712, 833\n",
    "\n",
    "\n",
    "Do stuff beyond what Bob asks for to impress him"
   ]
  },
  {
   "cell_type": "code",
   "execution_count": 16,
   "metadata": {
    "execution": {
     "iopub.execute_input": "2025-01-25T02:28:42.942093Z",
     "iopub.status.busy": "2025-01-25T02:28:42.941349Z",
     "iopub.status.idle": "2025-01-25T02:28:42.952094Z",
     "shell.execute_reply": "2025-01-25T02:28:42.951291Z",
     "shell.execute_reply.started": "2025-01-25T02:28:42.942057Z"
    }
   },
   "outputs": [],
   "source": [
    "import numpy as np\n",
    "import matplotlib.pyplot as plt\n",
    "import math\n",
    "import os\n",
    "os.environ[\"SPS_HOME\"] = \"/Users/nasserm/Documents/vscode/extragalactic/fsps\"\n",
    "import fsps\n",
    "import pandas as pd\n",
    "\n",
    "plt.rcParams['figure.dpi']= 100\n",
    "# plt.style.use('sm.mplstyle')  # Removed custom style since it is not available.\n",
    "plt.style.use('dark_background')"
   ]
  },
  {
   "cell_type": "markdown",
   "metadata": {},
   "source": [
    "Let's model the simplest possible galaxy: a simple stellar population (basically, a gigantic globular cluster). This thing has a star formation history that is a delta function... all the stars form in a single burst. This is totally unrealistic of course but it's useful reference case. You should play with other star-formation histories on your own!"
   ]
  },
  {
   "cell_type": "code",
   "execution_count": 155,
   "metadata": {
    "execution": {
     "iopub.execute_input": "2025-01-24T21:42:22.913171Z",
     "iopub.status.busy": "2025-01-24T21:42:22.913054Z",
     "iopub.status.idle": "2025-01-24T21:42:29.059564Z",
     "shell.execute_reply": "2025-01-24T21:42:29.058483Z",
     "shell.execute_reply.started": "2025-01-24T21:42:22.913162Z"
    },
    "scrolled": true
   },
   "outputs": [
    {
     "name": "stdout",
     "output_type": "stream",
     "text": [
      "CPU times: user 81 μs, sys: 50 μs, total: 131 μs\n",
      "Wall time: 135 μs\n"
     ]
    }
   ],
   "source": [
    "%%time\n",
    "sp = fsps.StellarPopulation(compute_vega_mags=False, \n",
    "                            zcontinuous=1, #continuous star formation history, I want exponential. Burst is zcontinous = 0\n",
    "                            sfh=0, \n",
    "                            logzsol=0.0, \n",
    "                            dust_type=2, \n",
    "                            dust2=0.2)\n"
   ]
  },
  {
   "cell_type": "markdown",
   "metadata": {},
   "source": [
    "Now define the filter set we want to use. We'll use the Sloan Survey filter set as it's such a common filter set these days, it's almost a universal standard for visible-wavelength telescopes."
   ]
  },
  {
   "cell_type": "code",
   "execution_count": 156,
   "metadata": {
    "execution": {
     "iopub.execute_input": "2025-01-24T21:42:29.061692Z",
     "iopub.status.busy": "2025-01-24T21:42:29.060783Z",
     "iopub.status.idle": "2025-01-24T21:42:29.064461Z",
     "shell.execute_reply": "2025-01-24T21:42:29.064233Z",
     "shell.execute_reply.started": "2025-01-24T21:42:29.061589Z"
    },
    "scrolled": true
   },
   "outputs": [
    {
     "name": "stdout",
     "output_type": "stream",
     "text": [
      "['sdss_u', 'sdss_g', 'sdss_r', 'sdss_i', 'sdss_z']\n",
      "CPU times: user 70 μs, sys: 15 μs, total: 85 μs\n",
      "Wall time: 88 μs\n"
     ]
    }
   ],
   "source": [
    "%%time\n",
    "sdss_bands = fsps.find_filter('sdss') #we're actually using JWST filters not sloan\n",
    "jwst_bands = ['jwst_f200w', 'jwst_f444w']\n",
    "crazy_bands = ['sdss_g', 'jwst_f200w', 'jwst_f444w']\n",
    "print(sdss_bands) "
   ]
  },
  {
   "cell_type": "markdown",
   "metadata": {},
   "source": [
    "The first call to `get_mags()` will take a long time, as the module is calculating everything for everything! Once it has done that the results are stored in the object though."
   ]
  },
  {
   "cell_type": "code",
   "execution_count": 157,
   "metadata": {
    "execution": {
     "iopub.execute_input": "2025-01-24T21:42:29.064826Z",
     "iopub.status.busy": "2025-01-24T21:42:29.064761Z",
     "iopub.status.idle": "2025-01-24T21:42:58.465973Z",
     "shell.execute_reply": "2025-01-24T21:42:58.465731Z",
     "shell.execute_reply.started": "2025-01-24T21:42:29.064819Z"
    },
    "scrolled": true
   },
   "outputs": [
    {
     "name": "stdout",
     "output_type": "stream",
     "text": [
      "CPU times: user 21.1 s, sys: 99.4 ms, total: 21.2 s\n",
      "Wall time: 21.2 s\n"
     ]
    }
   ],
   "source": [
    "%%time\n",
    "result = sp.get_mags(bands=crazy_bands)"
   ]
  },
  {
   "cell_type": "markdown",
   "metadata": {},
   "source": [
    "Subsequent calls to `get_mags()` are very quick."
   ]
  },
  {
   "cell_type": "code",
   "execution_count": 165,
   "metadata": {
    "execution": {
     "iopub.execute_input": "2025-01-24T21:42:58.466934Z",
     "iopub.status.busy": "2025-01-24T21:42:58.466858Z",
     "iopub.status.idle": "2025-01-24T21:42:58.479475Z",
     "shell.execute_reply": "2025-01-24T21:42:58.479269Z",
     "shell.execute_reply.started": "2025-01-24T21:42:58.466926Z"
    }
   },
   "outputs": [
    {
     "name": "stdout",
     "output_type": "stream",
     "text": [
      "CPU times: user 12.3 ms, sys: 1.38 ms, total: 13.7 ms\n",
      "Wall time: 13.8 ms\n"
     ]
    },
    {
     "data": {
      "text/plain": [
       "array([83.44859761, 51.18655675, 50.35378819])"
      ]
     },
     "execution_count": 165,
     "metadata": {},
     "output_type": "execute_result"
    }
   ],
   "source": [
    "%%time\n",
    "sp.get_mags(tage=0.06, redshift=10, bands=crazy_bands) ### 1 GYr at a red shift of 1"
   ]
  },
  {
   "cell_type": "markdown",
   "metadata": {},
   "source": [
    "Remember that the modelled stellar population has a mass of 1 solar mass! So you need to multiply it by the mass you want. If you're working in mag units, you need to subtract off 2.5*log10(mass in solar units)."
   ]
  },
  {
   "cell_type": "code",
   "execution_count": 166,
   "metadata": {
    "execution": {
     "iopub.execute_input": "2025-01-24T21:42:58.479945Z",
     "iopub.status.busy": "2025-01-24T21:42:58.479829Z",
     "iopub.status.idle": "2025-01-24T21:42:58.490985Z",
     "shell.execute_reply": "2025-01-24T21:42:58.490253Z",
     "shell.execute_reply.started": "2025-01-24T21:42:58.479936Z"
    }
   },
   "outputs": [
    {
     "name": "stdout",
     "output_type": "stream",
     "text": [
      "CPU times: user 12.2 ms, sys: 527 μs, total: 12.7 ms\n",
      "Wall time: 13.3 ms\n"
     ]
    },
    {
     "data": {
      "text/plain": [
       "array([65.94859761, 33.68655675, 32.85378819])"
      ]
     },
     "execution_count": 166,
     "metadata": {},
     "output_type": "execute_result"
    }
   ],
   "source": [
    "%%time\n",
    "-2.5*math.log10(10**7) + sp.get_mags(tage=.06, # + give the offset given in the homework question\n",
    "                                        redshift=10, \n",
    "                                        bands=crazy_bands)"
   ]
  },
  {
   "cell_type": "markdown",
   "metadata": {},
   "source": [
    "The `sp` object stores complete spectra!"
   ]
  },
  {
   "cell_type": "code",
   "execution_count": 164,
   "metadata": {
    "execution": {
     "iopub.execute_input": "2025-01-25T02:28:46.542024Z",
     "iopub.status.busy": "2025-01-25T02:28:46.541661Z",
     "iopub.status.idle": "2025-01-25T02:28:46.767061Z",
     "shell.execute_reply": "2025-01-25T02:28:46.766779Z",
     "shell.execute_reply.started": "2025-01-25T02:28:46.541994Z"
    }
   },
   "outputs": [
    {
     "data": {
      "image/png": "[encoded data removed]",
      "text/plain": [
       "<Figure size 640x480 with 1 Axes>"
      ]
     },
     "metadata": {},
     "output_type": "display_data"
    },
    {
     "name": "stdout",
     "output_type": "stream",
     "text": [
      "CPU times: user 76.2 ms, sys: 12.5 ms, total: 88.7 ms\n",
      "Wall time: 88.5 ms\n"
     ]
    }
   ],
   "source": [
    "%%time\n",
    "\n",
    "wave, spec = sp.get_spectrum(tage=13.5, peraa=True);\n",
    "\n",
    "# Plot the spectrum in the range 3000A to 10,000A\n",
    "idx_low = np.searchsorted(wave, 3000, side=\"left\");\n",
    "idx_high = np.searchsorted(wave, 10000, side=\"left\");\n",
    "xdata = wave[idx_low:idx_high]\n",
    "ydata = spec[idx_low:idx_high]\n",
    "\n",
    "plt.plot(xdata, ydata, linewidth=0.5);\n",
    "plt.xlabel(\"Wavelength [Angstrom]\")\n",
    "plt.ylabel(\"Flux [Lsun/Angstrom]\")\n",
    "ax = plt.gca()\n",
    "ax.ticklabel_format(axis='y',style='sci',scilimits=(0,0))\n",
    "ax.yaxis.major.formatter._useMathText = True\n",
    "plt.show()"
   ]
  },
  {
   "cell_type": "markdown",
   "metadata": {},
   "source": [
    "## A cosmologically consistent galaxy (sort-of)"
   ]
  },
  {
   "cell_type": "markdown",
   "metadata": {},
   "source": [
    "Let's assume our toy galaxy is born at z=5. How old was the Universe?"
   ]
  },
  {
   "cell_type": "code",
   "execution_count": 10,
   "metadata": {
    "execution": {
     "iopub.execute_input": "2025-01-24T21:43:19.236915Z",
     "iopub.status.busy": "2025-01-24T21:43:19.236562Z",
     "iopub.status.idle": "2025-01-24T21:43:19.244699Z",
     "shell.execute_reply": "2025-01-24T21:43:19.244234Z",
     "shell.execute_reply.started": "2025-01-24T21:43:19.236889Z"
    }
   },
   "outputs": [
    {
     "data": {
      "text/latex": [
       "$1.1900243 \\; \\mathrm{Gyr}$"
      ],
      "text/plain": [
       "<Quantity 1.19002429 Gyr>"
      ]
     },
     "execution_count": 10,
     "metadata": {},
     "output_type": "execute_result"
    }
   ],
   "source": [
    "from astropy.cosmology import WMAP9 as cosmo\n",
    "\n",
    "age_of_universe_when_galaxy_was_born = cosmo.age(5)\n",
    "age_of_universe_when_galaxy_was_born"
   ]
  },
  {
   "cell_type": "markdown",
   "metadata": {},
   "source": [
    "To get the age of the galaxy, we just just get the age of the Universe at a given redshift and subtract off the time at which the galaxy was born. "
   ]
  },
  {
   "cell_type": "code",
   "execution_count": 11,
   "metadata": {
    "execution": {
     "iopub.execute_input": "2025-01-24T21:43:21.509718Z",
     "iopub.status.busy": "2025-01-24T21:43:21.509366Z",
     "iopub.status.idle": "2025-01-24T21:43:21.516441Z",
     "shell.execute_reply": "2025-01-24T21:43:21.515954Z",
     "shell.execute_reply.started": "2025-01-24T21:43:21.509691Z"
    }
   },
   "outputs": [
    {
     "data": {
      "text/plain": [
       "array([0.1, 0.3, 0.5, 0.7, 0.9, 1.1, 1.3, 1.5, 1.7, 1.9, 2.1, 2.3, 2.5,\n",
       "       2.7, 2.9, 3.1, 3.3, 3.5, 3.7, 3.9, 4.1, 4.3, 4.5, 4.7, 4.9])"
      ]
     },
     "execution_count": 11,
     "metadata": {},
     "output_type": "execute_result"
    }
   ],
   "source": [
    "redshifts = np.arange(0.1,5,0.2)\n",
    "redshifts"
   ]
  },
  {
   "cell_type": "code",
   "execution_count": 12,
   "metadata": {
    "execution": {
     "iopub.execute_input": "2025-01-24T21:43:29.882383Z",
     "iopub.status.busy": "2025-01-24T21:43:29.882007Z",
     "iopub.status.idle": "2025-01-24T21:43:29.893045Z",
     "shell.execute_reply": "2025-01-24T21:43:29.892613Z",
     "shell.execute_reply.started": "2025-01-24T21:43:29.882355Z"
    }
   },
   "outputs": [
    {
     "data": {
      "text/latex": [
       "$[11.263518,~9.1173669,~7.4666119,~6.1793704,~5.1617837,~4.3463132,~3.6840784,~3.139463,~2.6862837,~2.3050858,~1.9812448,~1.7036353,~1.4636923,~1.2547457,~1.0715436,~0.9099079,~0.76648183,~0.63854396,~0.523869,~0.42062274,~0.32728213,~0.24257359,~0.16542528,~0.094929593,~0.03031365] \\; \\mathrm{Gyr}$"
      ],
      "text/plain": [
       "<Quantity [11.26351772,  9.11736687,  7.46661185,  6.17937037,  5.16178366,\n",
       "            4.3463132 ,  3.68407837,  3.13946301,  2.68628373,  2.30508575,\n",
       "            1.9812448 ,  1.70363532,  1.46369232,  1.25474568,  1.07154362,\n",
       "            0.9099079 ,  0.76648183,  0.63854396,  0.523869  ,  0.42062274,\n",
       "            0.32728213,  0.24257359,  0.16542528,  0.09492959,  0.03031365] Gyr>"
      ]
     },
     "execution_count": 12,
     "metadata": {},
     "output_type": "execute_result"
    }
   ],
   "source": [
    "age_of_galaxy = cosmo.age(redshifts) - age_of_universe_when_galaxy_was_born\n",
    "age_of_galaxy"
   ]
  },
  {
   "cell_type": "code",
   "execution_count": 13,
   "metadata": {
    "execution": {
     "iopub.execute_input": "2025-01-24T21:43:31.793113Z",
     "iopub.status.busy": "2025-01-24T21:43:31.792754Z",
     "iopub.status.idle": "2025-01-24T21:43:31.888086Z",
     "shell.execute_reply": "2025-01-24T21:43:31.887797Z",
     "shell.execute_reply.started": "2025-01-24T21:43:31.793083Z"
    }
   },
   "outputs": [
    {
     "data": {
      "image/png": "[encoded data removed]",
      "text/plain": [
       "<Figure size 640x480 with 1 Axes>"
      ]
     },
     "metadata": {},
     "output_type": "display_data"
    }
   ],
   "source": [
    "plt.plot(redshifts,age_of_galaxy)\n",
    "plt.xlabel(\"Redshift\")\n",
    "plt.ylabel(\"Age [Gyr]\");"
   ]
  },
  {
   "cell_type": "markdown",
   "metadata": {},
   "source": [
    "So now the hard work is done and we can work the galaxy magnitudes out in a nicely self-consistent way."
   ]
  },
  {
   "cell_type": "code",
   "execution_count": 14,
   "metadata": {
    "execution": {
     "iopub.execute_input": "2025-01-25T02:25:03.795275Z",
     "iopub.status.busy": "2025-01-25T02:25:03.794686Z",
     "iopub.status.idle": "2025-01-25T02:25:04.051236Z",
     "shell.execute_reply": "2025-01-25T02:25:04.050963Z",
     "shell.execute_reply.started": "2025-01-25T02:25:03.795240Z"
    }
   },
   "outputs": [
    {
     "name": "stdout",
     "output_type": "stream",
     "text": [
      "[22.30357473 20.27954836 19.19663798 18.76896424 18.31649042]\n",
      "[26.22416209 23.7218929  21.99882973 21.39446233 21.02563237]\n",
      "[28.92039805 25.54371638 23.74403476 22.77982961 22.28868427]\n",
      "[30.14538985 27.13597032 25.21434934 23.8321703  23.2329721 ]\n",
      "[32.08605837 28.78539428 26.13212735 24.98085409 23.93720594]\n",
      "[33.47451109 29.97658343 27.14092172 25.89508393 24.66857219]\n",
      "[33.70287999 30.55470539 28.31502377 26.52393595 25.47194064]\n",
      "[33.73784237 31.56649872 29.17757519 27.2133783  26.09840246]\n",
      "[33.8487294  32.69315305 29.64697144 27.96694826 26.57599605]\n",
      "[33.19191545 32.94815252 29.83458244 28.78154036 26.99792549]\n",
      "[33.79676898 33.72092702 30.28890581 29.20511242 27.54762493]\n",
      "[33.86116823 33.95590144 30.90909726 29.20266429 28.02866798]\n",
      "[34.55146904 34.494891   31.33612137 29.2135302  28.4732501 ]\n",
      "[34.95753786 34.70113494 31.73705994 29.3095173  28.59105184]\n",
      "[35.48938064 34.96442557 32.47845644 29.37285015 28.47906717]\n",
      "[36.14713673 35.25968196 33.40701754 29.3141945  28.29633359]\n",
      "[36.37788605 35.38670599 33.19960652 29.15700397 28.03197204]\n",
      "[36.55270499 35.50103901 32.78673466 28.86686453 27.74594109]\n",
      "[36.75011217 35.66543608 31.0373199  28.46570941 27.40203748]\n",
      "[36.99688321 35.90126831 30.02588593 27.88752502 27.06758339]\n",
      "[37.2660687  36.12743659 29.61537196 27.22491008 26.69208937]\n",
      "[37.5149173  35.81351382 29.18509482 26.58451133 26.19477194]\n",
      "[37.77367231 34.75486172 28.05780864 25.95858556 25.58173658]\n",
      "[38.60350866 34.08045353 26.43369269 25.19264085 24.7679069 ]\n",
      "[37.19326341 31.69400645 24.06722061 23.45430061 23.24878745]\n"
     ]
    }
   ],
   "source": [
    "logmass_of_galaxy = 10.4\n",
    "\n",
    "# Define the dataframe structure and create a template.\n",
    "col = {'Redshift': [], 'Age': [], 'sdss_u': [], 'sdss_g': [], \n",
    "       'sdss_r': [], 'sdss_i': [], 'sdss_z': []}\n",
    "df = pd.DataFrame(data=col)\n",
    "\n",
    "for i in np.arange(len(redshifts)):\n",
    "    mags=sp.get_mags(tage=age_of_galaxy[i].value, \n",
    "                     redshift=redshifts[i], \n",
    "                     bands=sdss_bands)\n",
    "    mags = mags -2.5*math.log10(10**logmass_of_galaxy)\n",
    "    print(mags)\n",
    "\n",
    "    # Add the information to the data frame    \n",
    "    col = {'Redshift': [redshifts[i]], \n",
    "           'Age': [age_of_galaxy[i].value], \n",
    "           'sdss_u': [mags[0]], \n",
    "           'sdss_g': [mags[1]], \n",
    "           'sdss_r': [mags[2]], \n",
    "           'sdss_i': [mags[3]], \n",
    "           'sdss_z': [mags[4]]}\n",
    "    new_df = pd.DataFrame(data=col)\n",
    "    df = pd.concat([df, new_df], ignore_index=True)"
   ]
  },
  {
   "cell_type": "markdown",
   "metadata": {},
   "source": [
    "Now that we have a dataframe with all the information it's easy to make plots."
   ]
  },
  {
   "cell_type": "code",
   "execution_count": 15,
   "metadata": {
    "execution": {
     "iopub.execute_input": "2025-01-25T02:25:09.435340Z",
     "iopub.status.busy": "2025-01-25T02:25:09.434986Z",
     "iopub.status.idle": "2025-01-25T02:25:09.535880Z",
     "shell.execute_reply": "2025-01-25T02:25:09.535606Z",
     "shell.execute_reply.started": "2025-01-25T02:25:09.435312Z"
    }
   },
   "outputs": [
    {
     "data": {
      "image/png": "[encoded data removed]",
      "text/plain": [
       "<Figure size 640x480 with 1 Axes>"
      ]
     },
     "metadata": {},
     "output_type": "display_data"
    }
   ],
   "source": [
    "plt.plot(df['Redshift'].to_numpy(),df['sdss_i'].to_numpy())\n",
    "plt.xlabel(\"Redshift\")\n",
    "plt.ylabel(\"Mag\");"
   ]
  },
  {
   "cell_type": "code",
   "execution_count": null,
   "metadata": {},
   "outputs": [
    {
     "name": "stdout",
     "output_type": "stream",
     "text": [
      "Age of the universe at redshift 10: 0.47 Gyr\n",
      "Age of the universe at redshift 11: 0.41 Gyr\n"
     ]
    }
   ],
   "source": [
    "from astropy.cosmology import Planck18 as cosmo\n",
    "\n",
    "# Compute the age of the universe at redshift 10\n",
    "age_at_z10 = cosmo.age(10).value  # in Gyr\n",
    "\n",
    "# Compute the age of the universe at redshift 0.5\n",
    "age_at_z11 = cosmo.age(11).value  # in Gyr\n",
    "\n",
    "print(f\"Age of the universe at redshift 10: {age_at_z10:.2f} Gyr\") #when we're observing it\n",
    "print(f\"Age of the universe at redshift 11: {age_at_z11:.2f} Gyr\") #when it was born"
   ]
  }
 ],
 "metadata": {
  "kernelspec": {
   "display_name": "Python 3",
   "language": "python",
   "name": "python3"
  },
  "language_info": {
   "codemirror_mode": {
    "name": "ipython",
    "version": 3
   },
   "file_extension": ".py",
   "mimetype": "text/x-python",
   "name": "python",
   "nbconvert_exporter": "python",
   "pygments_lexer": "ipython3",
   "version": "3.11.9"
  }
 },
 "nbformat": 4,
 "nbformat_minor": 4
}
