{
 "cells": [
  {
   "cell_type": "markdown",
   "metadata": {},
   "source": [
    "# Assignment 1, Extragalactic Astronomy\n",
    "Nasser Mohammed\n",
    "\n",
    "Feburary 3rd, 2025\n",
    "\n",
    "> The purpose of this question is to familiarize you with the basics of luminosity functions and with the relationship between the luminosity function, luminosity density, and mass density.\n",
    "> Assume that galaxies can be described by a Schechter function luminosity function given in Table 4 of Loveday et al. 2015, MNRAS, 451, 2, 1540-1552."
   ]
  },
  {
   "cell_type": "markdown",
   "metadata": {},
   "source": [
    "## 1.1\n",
    "\n",
    "> Write some code to compute the local number density of blue and red galaxies in the absolute magnitude range -23 < Mr < -14. Supply both the code and the answer. Any software or language is fine, though all things being equal I recommend a Jupyter notebook with Python for simplicity. In any case, I will zing you mercilessly if you don’t comment your notebook (or code file) appropriately to make it clear what you are doing."
   ]
  },
  {
   "cell_type": "code",
   "execution_count": 3,
   "metadata": {},
   "outputs": [],
   "source": [
    "import numpy as np\n",
    "import matplotlib.pyplot as plt"
   ]
  },
  {
   "cell_type": "markdown",
   "metadata": {},
   "source": [
    "The Schecter function in units of number per magnitude interval is:\n",
    "\n",
    "$$n(M) \\ dM = 2/5 \\ \\phi_* \\ln(10) \\ [10^{0.4 (M_* - M)}]^{\\alpha+1} \\ \\text{exp}[-10^{0.4(M_*-M)}]$$\n",
    "\n",
    "To find the number per Mpc -3 for the provided magnitude interval we would integrate over it:\n",
    "\n",
    "$$\\int_{-23}^{-14} n(M) \\ dM"
   ]
  },
  {
   "cell_type": "code",
   "execution_count": 30,
   "metadata": {},
   "outputs": [],
   "source": [
    "h = 0.7 # dimensionless hubble constant \n",
    "MStar_blue = -20.36+5*np.log10(h) #from table 4\n",
    "phiStar_blue = (10**(-2.27*(h**3))) #[Mpc^-3] --- from table 4\n",
    "alpha_blue = -1.38 # from table 4\n",
    "\n",
    "MStar_red = -20.68+5*np.log10(h) #from table 4\n",
    "phiStar_red = (10**(-2.23*(h**3))) #[Mpc^-3] --- from table 4\n",
    "alpha_red = -0.79 # from table 4\n",
    "\n",
    "\n",
    "def schechter_lum(M, MStar, phiStar, alpha):\n",
    "    \"\"\"Schechter luminosity function with better numerical handling\"\"\"\n",
    "    logL = 0.4 * (MStar - M)\n",
    "    return phiStar * np.log(10) * (10**logL)**(alpha+1) * np.exp(-10**logL)"
   ]
  },
  {
   "cell_type": "code",
   "execution_count": 39,
   "metadata": {},
   "outputs": [
    {
     "name": "stdout",
     "output_type": "stream",
     "text": [
      "11.73 blue galaxies per Mpc³\n",
      "1.39 red galaxies per Mpc³\n"
     ]
    }
   ],
   "source": [
    "dM = 0.001\n",
    "int_over = np.arange(-23, -14, dM)\n",
    "\n",
    "n_MBlue = 0\n",
    "for M in int_over:\n",
    "    ## Approximating the integral as a summation\n",
    "    n_MBlue += schechter_lum(M, MStar_blue, phiStar_blue, alpha_blue) * dM\n",
    "\n",
    "print(f'{n_MBlue:.4} blue galaxies per Mpc³')\n",
    "    \n",
    "n_MRed = 0\n",
    "for M in int_over:\n",
    "    n_MRed += schechter_lum(M, MStar_red, phiStar_red, alpha_red) * dM\n",
    "\n",
    "print(f'{n_MRed:.3} red galaxies per Mpc³')"
   ]
  },
  {
   "cell_type": "markdown",
   "metadata": {},
   "source": [
    "Unclear what makes my calculation 'local' as the question asks for. "
   ]
  },
  {
   "cell_type": "markdown",
   "metadata": {},
   "source": [
    "# 1.2\n",
    "\n",
    ">  Make a plot showing how the local luminosity density of red and blue galaxies changes as a function of faint-end slope α, exploring the range -2.0 < α < -0.5. You may assume the Schechter function applies over an infinite luminosity range. (Note: luminosity density should be plotted in units of solar luminos\u0002ity per cubic Mpc)\n"
   ]
  },
  {
   "cell_type": "markdown",
   "metadata": {},
   "source": []
  }
 ],
 "metadata": {
  "kernelspec": {
   "display_name": "Python 3",
   "language": "python",
   "name": "python3"
  },
  "language_info": {
   "codemirror_mode": {
    "name": "ipython",
    "version": 3
   },
   "file_extension": ".py",
   "mimetype": "text/x-python",
   "name": "python",
   "nbconvert_exporter": "python",
   "pygments_lexer": "ipython3",
   "version": "3.11.9"
  }
 },
 "nbformat": 4,
 "nbformat_minor": 2
}
