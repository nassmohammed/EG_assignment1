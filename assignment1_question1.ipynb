{
 "cells": [
  {
   "cell_type": "markdown",
   "metadata": {},
   "source": [
    "# Assignment 1, Extragalactic Astronomy\n",
    "Nasser Mohammed\n",
    "\n",
    "Feburary 3rd, 2025\n",
    "\n",
    "> The purpose of this question is to familiarize you with the basics of luminosity functions and with the relationship between the luminosity function, luminosity density, and mass density.\n",
    "> Assume that galaxies can be described by a Schechter function luminosity function given in Table 4 of Loveday et al. 2015, MNRAS, 451, 2, 1540-1552."
   ]
  },
  {
   "cell_type": "markdown",
   "metadata": {},
   "source": [
    "## 1.\n",
    "\n",
    "> Write some code to compute the local number density of blue and red galaxies in the absolute magnitude range -23 < Mr < -14. Supply both the code and the answer. Any software or language is fine, though all things being equal I recommend a Jupyter notebook with Python for simplicity. In any case, I will zing you mercilessly if you don’t comment your notebook (or code file) appropriately to make it clear what you are doing."
   ]
  },
  {
   "cell_type": "code",
   "execution_count": 1,
   "metadata": {},
   "outputs": [],
   "source": [
    "import numpy as numpy\n",
    "import matplotlib.pyplot as plt"
   ]
  },
  {
   "cell_type": "code",
   "execution_count": null,
   "metadata": {},
   "outputs": [],
   "source": []
  }
 ],
 "metadata": {
  "kernelspec": {
   "display_name": "Python 3",
   "language": "python",
   "name": "python3"
  },
  "language_info": {
   "codemirror_mode": {
    "name": "ipython",
    "version": 3
   },
   "file_extension": ".py",
   "mimetype": "text/x-python",
   "name": "python",
   "nbconvert_exporter": "python",
   "pygments_lexer": "ipython3",
   "version": "3.11.9"
  }
 },
 "nbformat": 4,
 "nbformat_minor": 2
}
