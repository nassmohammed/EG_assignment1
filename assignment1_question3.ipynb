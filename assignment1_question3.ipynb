{
 "cells": [
  {
   "cell_type": "markdown",
   "metadata": {},
   "source": [
    "# Assignment 1, Q3, Extragalactic Astronomy\n",
    "Nasser Mohammed\n",
    "\n",
    "Feburary 3rd, 2025\n",
    "\n",
    ">Your goal is to use Darren Croton’s Theoretical Astrophysical Observatory website (https://tao.asvo.org.au/tao/) to undertake a state-of-the-art analysis of a galaxy survey using a semi-analytical galaxy model.\n",
    "\n",
    ">## Assumptions for your model\n",
    ">Use the Millennium N-body simulation as the starting point, with a box size of 500 Mpc/h and the SAGE\n",
    ">semi-analytical model.\n",
    ">\n",
    ">Assume the observations being undertaken are near the Galactic north pole (so as to avoid dust obscuration).\n",
    ">\n",
    ">Assume you’re undertaking the survey with the James Webb Space Telescope. The survey will cover an\n",
    ">area of 15’ x 15’ (which would take many pointings with the NIRCAM camera. This is a big survey!).\n",
    ">\n",
    ">Assume galaxies are in the redshift range 0.1 < z < 8.\n",
    ">\n",
    ">Assume that stars form in galaxies with a Chabrier Initial Mass Function and that the FSPS (Conroy et\n",
    ">al. 2009) spectral synthesis code does a good job of modelling the evolution of the stars in the galaxies.\n",
    ">\n",
    ">Assume you’re observing the galaxies using the NIRCAM camera on HST (using filters F160W and\n",
    ">F220W).\n",
    ">\n",
    ">Assume corrections for dust using the Calzetti dust model.\n",
    ">\n",
    ">Use the F160W filter to do a global catalog selection, limiting galaxies to the range 15 < F160W < 29.\n",
    ">\n",
    ">This is deep data with Webb but nothing to write home about.\n",
    "\n",
    "- Do I want apparent or absolute?\n",
    "- There is no F220W -> use 200W for everything\n",
    "- F160W is HST?"
   ]
  },
  {
   "cell_type": "markdown",
   "metadata": {},
   "source": [
    "> With the assumptions above, create your model of a deep galaxy survey undertaken with Webb and use it as follows. Please do everything in a Jupyter notebook and send me a PDF of that so I can see what you’re doing. (If this is a hassle for you, something roughly equivalent would be fine too, e.g. a Mathematica notebook or even a Word file with code and figures) "
   ]
  },
  {
   "cell_type": "markdown",
   "metadata": {},
   "source": [
    "I will need:\n",
    "- number of galaxies as a function of 200W down to 28AB magnitude in a 2arcmin x 2arcmin subset\n",
    "- stellar mass distributions of galaxies\n",
    "- apparent magnitude cutoff\n",
    "- anything interesting\n"
   ]
  },
  {
   "cell_type": "markdown",
   "metadata": {},
   "source": [
    "## 3.1\n",
    "\n",
    ">  Create plots of showing the number of galaxies as a function of F160W magnitude, down to F160W=29 (AB) magnitude, in a 2 arcmin x 2 arcmin subset of the simulation. Comment on the slope of the distribution. How sensitive is the shape of the distribution to the specific place in the larger field from which you drew your 2 arcmin x 2 arcmin pointing?"
   ]
  },
  {
   "cell_type": "code",
   "execution_count": 1,
   "metadata": {},
   "outputs": [],
   "source": [
    "import numpy as np\n",
    "import matplotlib.pyplot as plt"
   ]
  },
  {
   "cell_type": "code",
   "execution_count": 1,
   "metadata": {},
   "outputs": [
    {
     "name": "stdout",
     "output_type": "stream",
     "text": [
      "Filename: /Users/nasserm/Documents/vscode/extragalactic/EG_assignment1/tao_nassmohammed_catalogue_4716/tao.4716.0.fits\n",
      "No.    Name      Ver    Type      Cards   Dimensions   Format\n",
      "  0  PRIMARY       1 PrimaryHDU       6   ()      \n",
      "  1  New Table     1 BinTableHDU    103   372R x 47C   [D, D, D, D, D, D, D, D, D, D, D, D, D, J, D, D, D, D, D, D, D, D, D, D, D, D, D, D, D, D, J, D, D, D, D, D, J, D, D, D, D, D, D, J, K, K, K]   \n"
     ]
    }
   ],
   "source": [
    "from astropy.io import fits\n",
    "\n",
    "# Open the FITS file\n",
    "file_path = '/Users/nasserm/Documents/vscode/extragalactic/EG_assignment1/tao_nassmohammed_catalogue_4716/tao.4716.0.fits'\n",
    "hdul = fits.open(file_path)\n",
    "\n",
    "# Print the information about the FITS file\n",
    "hdul.info()"
   ]
  },
  {
   "cell_type": "code",
   "execution_count": 3,
   "metadata": {},
   "outputs": [],
   "source": [
    "#save as data_tao\n",
    "data_tao = hdul[1].data\n",
    "#close the file\n",
    "hdul.close()\n",
    "\n"
   ]
  },
  {
   "cell_type": "code",
   "execution_count": 4,
   "metadata": {},
   "outputs": [
    {
     "data": {
      "text/plain": [
       "ColDefs(\n",
       "    name = 'Total_Stellar_Mass'; format = 'D'\n",
       "    name = 'Bulge_Stellar_Mass'; format = 'D'\n",
       "    name = 'Black_Hole_Mass'; format = 'D'\n",
       "    name = 'Cold_Gas_Mass'; format = 'D'\n",
       "    name = 'Hot_Gas_Mass'; format = 'D'\n",
       "    name = 'Ejected_Gas_Mass'; format = 'D'\n",
       "    name = 'Intracluster_Stars_Mass'; format = 'D'\n",
       "    name = 'Metals_Total_Stellar_Mass'; format = 'D'\n",
       "    name = 'Metals_Bulge_Mass'; format = 'D'\n",
       "    name = 'Metals_Cold_Gas_Mass'; format = 'D'\n",
       "    name = 'Metals_Hot_Gas_Mass'; format = 'D'\n",
       "    name = 'Metals_Ejected_Gas_Mass'; format = 'D'\n",
       "    name = 'Metals_IntraCluster_Stars_Mass'; format = 'D'\n",
       "    name = 'Galaxy_Classification'; format = 'J'\n",
       "    name = 'Disk_Scale_Radius'; format = 'D'\n",
       "    name = 'Total_Star_Formation_Rate'; format = 'D'\n",
       "    name = 'Hot_Gas_Cooling_Rate'; format = 'D'\n",
       "    name = 'AGN_Heating_Rate'; format = 'D'\n",
       "    name = 'Quasar_BH_Accretion_Mass'; format = 'D'\n",
       "    name = 'Time_of_Last_Major_Merger'; format = 'D'\n",
       "    name = 'Time_of_Last_Minor_Merger'; format = 'D'\n",
       "    name = 'Supernova_Cold_Gas_Outflow_Rate'; format = 'D'\n",
       "    name = 'Mvir'; format = 'D'\n",
       "    name = 'Rvir'; format = 'D'\n",
       "    name = 'Vvir'; format = 'D'\n",
       "    name = 'Vmax'; format = 'D'\n",
       "    name = 'Velocity_Dispersion'; format = 'D'\n",
       "    name = 'X_Spin'; format = 'D'\n",
       "    name = 'Y_Spin'; format = 'D'\n",
       "    name = 'Z_Spin'; format = 'D'\n",
       "    name = 'Total_Particles'; format = 'J'\n",
       "    name = 'Central_Galaxy_Mvir'; format = 'D'\n",
       "    name = 'Subhalo_Mvir_at_Infall'; format = 'D'\n",
       "    name = 'Subhalo_Vvir_at_Infall'; format = 'D'\n",
       "    name = 'Subhalo_Vmax_at_Infall'; format = 'D'\n",
       "    name = 'Maximum_circular_velocity_of_the_halo'; format = 'D'\n",
       "    name = 'Flyby_Flag'; format = 'J'\n",
       "    name = 'X'; format = 'D'\n",
       "    name = 'Y'; format = 'D'\n",
       "    name = 'Z'; format = 'D'\n",
       "    name = 'X_Velocity'; format = 'D'\n",
       "    name = 'Y_Velocity'; format = 'D'\n",
       "    name = 'Z_Velocity'; format = 'D'\n",
       "    name = 'Snapshot_Number'; format = 'J'\n",
       "    name = 'Galaxy_ID'; format = 'K'\n",
       "    name = 'Central_Galaxy_ID'; format = 'K'\n",
       "    name = 'Simulation_Halo_ID'; format = 'K'\n",
       ")"
      ]
     },
     "execution_count": 4,
     "metadata": {},
     "output_type": "execute_result"
    }
   ],
   "source": [
    "data_tao.columns"
   ]
  },
  {
   "cell_type": "code",
   "execution_count": 5,
   "metadata": {},
   "outputs": [
    {
     "data": {
      "text/plain": [
       "(np.float64(9.13223648071289), np.float64(9.13223648071289), np.float64(0.015462073497474194), np.float64(0.15961836278438568), np.float64(407.3665771484375), np.float64(0.0), np.float64(0.0), np.float64(0.12321759760379791), np.float64(0.12321759760379791), np.float64(0.0010199951939284801), np.float64(0.7220191359519958), np.float64(0.0), np.float64(0.0), np.int32(1), np.float64(0.014833927154541016), np.float64(0.0), np.float64(0.0), np.float64(0.0), np.float64(0.0), np.float64(3044.650146484375), np.float64(3044.650146484375), np.float64(0.0), np.float64(2980.71337890625), np.float64(0.5042197704315186), np.float64(504.2200927734375), np.float64(521.2556762695312), np.float64(304.2757873535156), np.float64(-0.7416958212852478), np.float64(13.135326385498047), np.float64(3.140981912612915), np.int32(34633), np.float64(33993.359375), np.float64(2885.3515625), np.float64(503.705322265625), np.float64(526.3646240234375), np.float64(545.4365234375), np.int32(0), np.float64(6.813869953155518), np.float64(13.940020561218262), np.float64(8.428145408630371), np.float64(-316.2487487792969), np.float64(-936.0225830078125), np.float64(-118.20664978027344), np.int32(63), np.int64(2536), np.int64(0), np.int64(1327572))"
      ]
     },
     "execution_count": 5,
     "metadata": {},
     "output_type": "execute_result"
    }
   ],
   "source": [
    "data_tao[0]"
   ]
  }
 ],
 "metadata": {
  "kernelspec": {
   "display_name": "Python 3",
   "language": "python",
   "name": "python3"
  },
  "language_info": {
   "codemirror_mode": {
    "name": "ipython",
    "version": 3
   },
   "file_extension": ".py",
   "mimetype": "text/x-python",
   "name": "python",
   "nbconvert_exporter": "python",
   "pygments_lexer": "ipython3",
   "version": "3.11.9"
  }
 },
 "nbformat": 4,
 "nbformat_minor": 2
}
