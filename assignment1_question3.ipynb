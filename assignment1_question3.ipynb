{
 "cells": [
  {
   "cell_type": "markdown",
   "metadata": {},
   "source": [
    "# Assignment 1, Q3, Extragalactic Astronomy\n",
    "Nasser Mohammed\n",
    "\n",
    "Feburary 3rd, 2025\n",
    "\n",
    ">Your goal is to use Darren Croton’s Theoretical Astrophysical Observatory website (https://tao.asvo.org.au/tao/) to undertake a state-of-the-art analysis of a galaxy survey using a semi-analytical galaxy model.\n",
    "\n",
    ">## Assumptions for your model\n",
    ">Use the Millennium N-body simulation as the starting point, with a box size of 500 Mpc/h and the SAGE\n",
    ">semi-analytical model.\n",
    ">\n",
    ">Assume the observations being undertaken are near the Galactic north pole (so as to avoid dust obscuration).\n",
    ">\n",
    ">Assume you’re undertaking the survey with the James Webb Space Telescope. The survey will cover an\n",
    ">area of 15’ x 15’ (which would take many pointings with the NIRCAM camera. This is a big survey!).\n",
    ">\n",
    ">Assume galaxies are in the redshift range 0.1 < z < 8.\n",
    ">\n",
    ">Assume that stars form in galaxies with a Chabrier Initial Mass Function and that the FSPS (Conroy et\n",
    ">al. 2009) spectral synthesis code does a good job of modelling the evolution of the stars in the galaxies.\n",
    ">\n",
    ">Assume you’re observing the galaxies using the NIRCAM camera on HST (using filters F160W and\n",
    ">F220W).\n",
    ">\n",
    ">Assume corrections for dust using the Calzetti dust model.\n",
    ">\n",
    ">Use the F160W filter to do a global catalog selection, limiting galaxies to the range 15 < F160W < 29.\n",
    ">\n",
    ">This is deep data with Webb but nothing to write home about.\n",
    "\n",
    "- Do I want apparent or absolute?\n",
    "- There is no F220W -> use 200W for everything\n",
    "- F160W is HST?"
   ]
  },
  {
   "cell_type": "markdown",
   "metadata": {},
   "source": [
    "> With the assumptions above, create your model of a deep galaxy survey undertaken with Webb and use it as follows. Please do everything in a Jupyter notebook and send me a PDF of that so I can see what you’re doing. (If this is a hassle for you, something roughly equivalent would be fine too, e.g. a Mathematica notebook or even a Word file with code and figures) "
   ]
  },
  {
   "cell_type": "markdown",
   "metadata": {},
   "source": [
    "I will need:\n",
    "- number of galaxies as a function of 200W down to 28AB magnitude in a 2arcmin x 2arcmin subset\n",
    "- stellar mass distributions of galaxies\n",
    "- apparent magnitude cutoff\n",
    "- anything interesting\n"
   ]
  },
  {
   "cell_type": "markdown",
   "metadata": {},
   "source": [
    "## 3.1\n",
    "\n",
    ">  Create plots of showing the number of galaxies as a function of F160W magnitude, down to F160W=29 (AB) magnitude, in a 2 arcmin x 2 arcmin subset of the simulation. Comment on the slope of the distribution. How sensitive is the shape of the distribution to the specific place in the larger field from which you drew your 2 arcmin x 2 arcmin pointing?"
   ]
  },
  {
   "cell_type": "code",
   "execution_count": 1,
   "metadata": {},
   "outputs": [],
   "source": [
    "import numpy as np\n",
    "import matplotlib.pyplot as plt"
   ]
  },
  {
   "cell_type": "code",
   "execution_count": null,
   "metadata": {},
   "outputs": [],
   "source": []
  }
 ],
 "metadata": {
  "kernelspec": {
   "display_name": "Python 3",
   "language": "python",
   "name": "python3"
  },
  "language_info": {
   "codemirror_mode": {
    "name": "ipython",
    "version": 3
   },
   "file_extension": ".py",
   "mimetype": "text/x-python",
   "name": "python",
   "nbconvert_exporter": "python",
   "pygments_lexer": "ipython3",
   "version": "3.11.9"
  }
 },
 "nbformat": 4,
 "nbformat_minor": 2
}
