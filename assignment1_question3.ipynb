{
 "cells": [
  {
   "cell_type": "markdown",
   "metadata": {},
   "source": [
    "# Assignment 1, Q3, Extragalactic Astronomy\n",
    "Nasser Mohammed\n",
    "\n",
    "Feburary 3rd, 2025\n",
    "\n",
    ">Your goal is to use Darren Croton’s Theoretical Astrophysical Observatory website (https://tao.asvo.org.au/tao/) to undertake a state-of-the-art analysis of a galaxy survey using a semi-analytical galaxy model.\n",
    "\n",
    ">## Assumptions for your model\n",
    ">Use the Millennium N-body simulation as the starting point, with a box size of 500 Mpc/h and the SAGE\n",
    ">semi-analytical model.\n",
    ">\n",
    ">Assume the observations being undertaken are near the Galactic north pole (so as to avoid dust obscuration).\n",
    ">\n",
    ">Assume you’re undertaking the survey with the James Webb Space Telescope. The survey will cover an\n",
    ">area of 15’ x 15’ (which would take many pointings with the NIRCAM camera. This is a big survey!).\n",
    ">\n",
    ">Assume galaxies are in the redshift range 0.1 < z < 8.\n",
    ">\n",
    ">Assume that stars form in galaxies with a Chabrier Initial Mass Function and that the FSPS (Conroy et\n",
    ">al. 2009) spectral synthesis code does a good job of modelling the evolution of the stars in the galaxies.\n",
    ">\n",
    ">Assume you’re observing the galaxies using the NIRCAM camera on HST (using filters F160W and\n",
    ">F220W).\n",
    ">\n",
    ">Assume corrections for dust using the Calzetti dust model.\n",
    ">\n",
    ">Use the F160W filter to do a global catalog selection, limiting galaxies to the range 15 < F160W < 29.\n",
    ">\n",
    ">This is deep data with Webb but nothing to write home about.\n",
    "\n",
    "- Do I want apparent or absolute?\n",
    "- There is no F220W -> use 200W for everything\n",
    "- F160W is HST?"
   ]
  },
  {
   "cell_type": "markdown",
   "metadata": {},
   "source": [
    "> With the assumptions above, create your model of a deep galaxy survey undertaken with Webb and use it as follows. Please do everything in a Jupyter notebook and send me a PDF of that so I can see what you’re doing. (If this is a hassle for you, something roughly equivalent would be fine too, e.g. a Mathematica notebook or even a Word file with code and figures) "
   ]
  },
  {
   "cell_type": "markdown",
   "metadata": {},
   "source": [
    "I will need:\n",
    "- number of galaxies as a function of 200W down to 28AB magnitude in a 2arcmin x 2arcmin subset\n",
    "- stellar mass distributions of galaxies\n",
    "- apparent magnitude cutoff\n",
    "- anything interesting\n"
   ]
  },
  {
   "cell_type": "markdown",
   "metadata": {},
   "source": [
    "## 3.1\n",
    "\n",
    ">  Create plots of showing the number of galaxies as a function of F160W magnitude, down to F160W=29 (AB) magnitude, in a 2 arcmin x 2 arcmin subset of the simulation. Comment on the slope of the distribution. How sensitive is the shape of the distribution to the specific place in the larger field from which you drew your 2 arcmin x 2 arcmin pointing?"
   ]
  },
  {
   "cell_type": "code",
   "execution_count": 5,
   "metadata": {},
   "outputs": [],
   "source": [
    "import numpy as np\n",
    "import matplotlib.pyplot as plt\n",
    "import pandas as pd"
   ]
  },
  {
   "cell_type": "code",
   "execution_count": 14,
   "metadata": {},
   "outputs": [
    {
     "name": "stdout",
     "output_type": "stream",
     "text": [
      "Loaded 0 galaxies\n"
     ]
    },
    {
     "ename": "TypeError",
     "evalue": "sequence item 0: expected str instance, int found",
     "output_type": "error",
     "traceback": [
      "\u001b[0;31m---------------------------------------------------------------------------\u001b[0m",
      "\u001b[0;31mTypeError\u001b[0m                                 Traceback (most recent call last)",
      "Cell \u001b[0;32mIn[14], line 20\u001b[0m\n\u001b[1;32m     18\u001b[0m \u001b[38;5;66;03m# Print info about the data\u001b[39;00m\n\u001b[1;32m     19\u001b[0m \u001b[38;5;28mprint\u001b[39m(\u001b[38;5;124mf\u001b[39m\u001b[38;5;124m\"\u001b[39m\u001b[38;5;124mLoaded \u001b[39m\u001b[38;5;132;01m{\u001b[39;00m\u001b[38;5;28mlen\u001b[39m(data)\u001b[38;5;132;01m}\u001b[39;00m\u001b[38;5;124m galaxies\u001b[39m\u001b[38;5;124m\"\u001b[39m)\n\u001b[0;32m---> 20\u001b[0m \u001b[38;5;28mprint\u001b[39m(\u001b[38;5;124mf\u001b[39m\u001b[38;5;124m\"\u001b[39m\u001b[38;5;124mAvailable columns: \u001b[39m\u001b[38;5;132;01m{\u001b[39;00m\u001b[38;5;124;43m'\u001b[39;49m\u001b[38;5;124;43m, \u001b[39;49m\u001b[38;5;124;43m'\u001b[39;49m\u001b[38;5;241;43m.\u001b[39;49m\u001b[43mjoin\u001b[49m\u001b[43m(\u001b[49m\u001b[43mdata\u001b[49m\u001b[38;5;241;43m.\u001b[39;49m\u001b[43mcolumns\u001b[49m\u001b[43m)\u001b[49m\u001b[38;5;132;01m}\u001b[39;00m\u001b[38;5;124m\"\u001b[39m)\n",
      "\u001b[0;31mTypeError\u001b[0m: sequence item 0: expected str instance, int found"
     ]
    }
   ],
   "source": [
    "from astropy.io import fits\n",
    "import h5py\n",
    "\n",
    "# Define the path to the FITS file for the TAO data\n",
    "file_path = '/Users/nasserm/Documents/vscode/extragalactic/EG_assignment1/tao_nassmohammed_catalogue_4761/tao.4762.0.hdf5'\n",
    "\n",
    "# Open the FITS file and read the data\n",
    "# Open the HDF5 file and read the data\n",
    "with h5py.File(file_path, 'r') as hdf:\n",
    "    # Get the dataset from the HDF5 file\n",
    "    # Typically in TAO output, galaxy data is in a dataset named 'galaxies'\n",
    "    dataset_name = list(hdf.keys())[0]  # Get the first dataset name\n",
    "    galaxy_data = hdf[dataset_name][()]\n",
    "    \n",
    "    # Convert to pandas DataFrame\n",
    "    data = pd.DataFrame(galaxy_data)\n",
    "    \n",
    "    # Print info about the data\n",
    "    print(f\"Loaded {len(data)} galaxies\")\n",
    "    print(f\"Available columns: {', '.join(data.columns)}\")"
   ]
  },
  {
   "cell_type": "code",
   "execution_count": 15,
   "metadata": {},
   "outputs": [
    {
     "data": {
      "text/html": [
       "<div>\n",
       "<style scoped>\n",
       "    .dataframe tbody tr th:only-of-type {\n",
       "        vertical-align: middle;\n",
       "    }\n",
       "\n",
       "    .dataframe tbody tr th {\n",
       "        vertical-align: top;\n",
       "    }\n",
       "\n",
       "    .dataframe thead th {\n",
       "        text-align: right;\n",
       "    }\n",
       "</style>\n",
       "<table border=\"1\" class=\"dataframe\">\n",
       "  <thead>\n",
       "    <tr style=\"text-align: right;\">\n",
       "      <th></th>\n",
       "      <th>0</th>\n",
       "    </tr>\n",
       "  </thead>\n",
       "  <tbody>\n",
       "  </tbody>\n",
       "</table>\n",
       "</div>"
      ],
      "text/plain": [
       "Empty DataFrame\n",
       "Columns: [0]\n",
       "Index: []"
      ]
     },
     "execution_count": 15,
     "metadata": {},
     "output_type": "execute_result"
    }
   ],
   "source": [
    "data"
   ]
  },
  {
   "cell_type": "code",
   "execution_count": 10,
   "metadata": {},
   "outputs": [
    {
     "data": {
      "text/html": [
       "<div>\n",
       "<style scoped>\n",
       "    .dataframe tbody tr th:only-of-type {\n",
       "        vertical-align: middle;\n",
       "    }\n",
       "\n",
       "    .dataframe tbody tr th {\n",
       "        vertical-align: top;\n",
       "    }\n",
       "\n",
       "    .dataframe thead th {\n",
       "        text-align: right;\n",
       "    }\n",
       "</style>\n",
       "<table border=\"1\" class=\"dataframe\">\n",
       "  <thead>\n",
       "    <tr style=\"text-align: right;\">\n",
       "      <th></th>\n",
       "      <th>Total_Stellar_Mass</th>\n",
       "      <th>Bulge_Stellar_Mass</th>\n",
       "      <th>Black_Hole_Mass</th>\n",
       "      <th>Galaxy_Classification</th>\n",
       "      <th>Disk_Scale_Radius</th>\n",
       "      <th>Total_Star_Formation_Rate</th>\n",
       "      <th>Time_of_Last_Major_Merger</th>\n",
       "      <th>X</th>\n",
       "      <th>Y</th>\n",
       "      <th>Z</th>\n",
       "      <th>X_Velocity</th>\n",
       "      <th>Y_Velocity</th>\n",
       "      <th>Z_Velocity</th>\n",
       "      <th>Snapshot_Number</th>\n",
       "      <th>Galaxy_ID</th>\n",
       "      <th>Central_Galaxy_ID</th>\n",
       "      <th>Simulation_Halo_ID</th>\n",
       "      <th>JWST_NIRCAM_F200W_Absolute</th>\n",
       "      <th>JWST_NIRCAM_F200W_Apparent</th>\n",
       "    </tr>\n",
       "  </thead>\n",
       "  <tbody>\n",
       "  </tbody>\n",
       "</table>\n",
       "</div>"
      ],
      "text/plain": [
       "Empty DataFrame\n",
       "Columns: [Total_Stellar_Mass, Bulge_Stellar_Mass, Black_Hole_Mass, Galaxy_Classification, Disk_Scale_Radius, Total_Star_Formation_Rate, Time_of_Last_Major_Merger, X, Y, Z, X_Velocity, Y_Velocity, Z_Velocity, Snapshot_Number, Galaxy_ID, Central_Galaxy_ID, Simulation_Halo_ID, JWST_NIRCAM_F200W_Absolute, JWST_NIRCAM_F200W_Apparent]\n",
       "Index: []"
      ]
     },
     "execution_count": 10,
     "metadata": {},
     "output_type": "execute_result"
    }
   ],
   "source": [
    "data"
   ]
  },
  {
   "cell_type": "code",
   "execution_count": null,
   "metadata": {},
   "outputs": [
    {
     "ename": "FileNotFoundError",
     "evalue": "[Errno 2] No such file or directory: '/Users/nasserm/Documents/vscode/extragalactic/EG_assignment1/tao_nassmohammed_catalogue_4753/tao.4753.0.fits'",
     "output_type": "error",
     "traceback": [
      "\u001b[0;31m---------------------------------------------------------------------------\u001b[0m",
      "\u001b[0;31mFileNotFoundError\u001b[0m                         Traceback (most recent call last)",
      "Cell \u001b[0;32mIn[1], line 5\u001b[0m\n\u001b[1;32m      3\u001b[0m \u001b[38;5;66;03m# Open the FITS file\u001b[39;00m\n\u001b[1;32m      4\u001b[0m file_path \u001b[38;5;241m=\u001b[39m \u001b[38;5;124m'\u001b[39m\u001b[38;5;124m/Users/nasserm/Documents/vscode/extragalactic/EG_assignment1/tao_nassmohammed_catalogue_4753/tao.4753.0.fits\u001b[39m\u001b[38;5;124m'\u001b[39m\n\u001b[0;32m----> 5\u001b[0m hdul \u001b[38;5;241m=\u001b[39m \u001b[43mfits\u001b[49m\u001b[38;5;241;43m.\u001b[39;49m\u001b[43mopen\u001b[49m\u001b[43m(\u001b[49m\u001b[43mfile_path\u001b[49m\u001b[43m)\u001b[49m\n\u001b[1;32m      7\u001b[0m \u001b[38;5;66;03m# Print the information about the FITS file\u001b[39;00m\n\u001b[1;32m      8\u001b[0m hdul\u001b[38;5;241m.\u001b[39minfo()\n",
      "File \u001b[0;32m/Library/Frameworks/Python.framework/Versions/3.11/lib/python3.11/site-packages/astropy/io/fits/hdu/hdulist.py:223\u001b[0m, in \u001b[0;36mfitsopen\u001b[0;34m(name, mode, memmap, save_backup, cache, lazy_load_hdus, ignore_missing_simple, use_fsspec, fsspec_kwargs, decompress_in_memory, **kwargs)\u001b[0m\n\u001b[1;32m    220\u001b[0m \u001b[38;5;28;01mif\u001b[39;00m \u001b[38;5;129;01mnot\u001b[39;00m name:\n\u001b[1;32m    221\u001b[0m     \u001b[38;5;28;01mraise\u001b[39;00m \u001b[38;5;167;01mValueError\u001b[39;00m(\u001b[38;5;124mf\u001b[39m\u001b[38;5;124m\"\u001b[39m\u001b[38;5;124mEmpty filename: \u001b[39m\u001b[38;5;132;01m{\u001b[39;00mname\u001b[38;5;132;01m!r}\u001b[39;00m\u001b[38;5;124m\"\u001b[39m)\n\u001b[0;32m--> 223\u001b[0m \u001b[38;5;28;01mreturn\u001b[39;00m \u001b[43mHDUList\u001b[49m\u001b[38;5;241;43m.\u001b[39;49m\u001b[43mfromfile\u001b[49m\u001b[43m(\u001b[49m\n\u001b[1;32m    224\u001b[0m \u001b[43m    \u001b[49m\u001b[43mname\u001b[49m\u001b[43m,\u001b[49m\n\u001b[1;32m    225\u001b[0m \u001b[43m    \u001b[49m\u001b[43mmode\u001b[49m\u001b[43m,\u001b[49m\n\u001b[1;32m    226\u001b[0m \u001b[43m    \u001b[49m\u001b[43mmemmap\u001b[49m\u001b[43m,\u001b[49m\n\u001b[1;32m    227\u001b[0m \u001b[43m    \u001b[49m\u001b[43msave_backup\u001b[49m\u001b[43m,\u001b[49m\n\u001b[1;32m    228\u001b[0m \u001b[43m    \u001b[49m\u001b[43mcache\u001b[49m\u001b[43m,\u001b[49m\n\u001b[1;32m    229\u001b[0m \u001b[43m    \u001b[49m\u001b[43mlazy_load_hdus\u001b[49m\u001b[43m,\u001b[49m\n\u001b[1;32m    230\u001b[0m \u001b[43m    \u001b[49m\u001b[43mignore_missing_simple\u001b[49m\u001b[43m,\u001b[49m\n\u001b[1;32m    231\u001b[0m \u001b[43m    \u001b[49m\u001b[43muse_fsspec\u001b[49m\u001b[38;5;241;43m=\u001b[39;49m\u001b[43muse_fsspec\u001b[49m\u001b[43m,\u001b[49m\n\u001b[1;32m    232\u001b[0m \u001b[43m    \u001b[49m\u001b[43mfsspec_kwargs\u001b[49m\u001b[38;5;241;43m=\u001b[39;49m\u001b[43mfsspec_kwargs\u001b[49m\u001b[43m,\u001b[49m\n\u001b[1;32m    233\u001b[0m \u001b[43m    \u001b[49m\u001b[43mdecompress_in_memory\u001b[49m\u001b[38;5;241;43m=\u001b[39;49m\u001b[43mdecompress_in_memory\u001b[49m\u001b[43m,\u001b[49m\n\u001b[1;32m    234\u001b[0m \u001b[43m    \u001b[49m\u001b[38;5;241;43m*\u001b[39;49m\u001b[38;5;241;43m*\u001b[39;49m\u001b[43mkwargs\u001b[49m\u001b[43m,\u001b[49m\n\u001b[1;32m    235\u001b[0m \u001b[43m\u001b[49m\u001b[43m)\u001b[49m\n",
      "File \u001b[0;32m/Library/Frameworks/Python.framework/Versions/3.11/lib/python3.11/site-packages/astropy/io/fits/hdu/hdulist.py:487\u001b[0m, in \u001b[0;36mHDUList.fromfile\u001b[0;34m(cls, fileobj, mode, memmap, save_backup, cache, lazy_load_hdus, ignore_missing_simple, **kwargs)\u001b[0m\n\u001b[1;32m    468\u001b[0m \u001b[38;5;129m@classmethod\u001b[39m\n\u001b[1;32m    469\u001b[0m \u001b[38;5;28;01mdef\u001b[39;00m \u001b[38;5;21mfromfile\u001b[39m(\n\u001b[1;32m    470\u001b[0m     \u001b[38;5;28mcls\u001b[39m,\n\u001b[0;32m   (...)\u001b[0m\n\u001b[1;32m    478\u001b[0m     \u001b[38;5;241m*\u001b[39m\u001b[38;5;241m*\u001b[39mkwargs,\n\u001b[1;32m    479\u001b[0m ):\n\u001b[1;32m    480\u001b[0m \u001b[38;5;250m    \u001b[39m\u001b[38;5;124;03m\"\"\"\u001b[39;00m\n\u001b[1;32m    481\u001b[0m \u001b[38;5;124;03m    Creates an `HDUList` instance from a file-like object.\u001b[39;00m\n\u001b[1;32m    482\u001b[0m \n\u001b[0;32m   (...)\u001b[0m\n\u001b[1;32m    485\u001b[0m \u001b[38;5;124;03m    documentation for details of the parameters accepted by this method).\u001b[39;00m\n\u001b[1;32m    486\u001b[0m \u001b[38;5;124;03m    \"\"\"\u001b[39;00m\n\u001b[0;32m--> 487\u001b[0m     \u001b[38;5;28;01mreturn\u001b[39;00m \u001b[38;5;28;43mcls\u001b[39;49m\u001b[38;5;241;43m.\u001b[39;49m\u001b[43m_readfrom\u001b[49m\u001b[43m(\u001b[49m\n\u001b[1;32m    488\u001b[0m \u001b[43m        \u001b[49m\u001b[43mfileobj\u001b[49m\u001b[38;5;241;43m=\u001b[39;49m\u001b[43mfileobj\u001b[49m\u001b[43m,\u001b[49m\n\u001b[1;32m    489\u001b[0m \u001b[43m        \u001b[49m\u001b[43mmode\u001b[49m\u001b[38;5;241;43m=\u001b[39;49m\u001b[43mmode\u001b[49m\u001b[43m,\u001b[49m\n\u001b[1;32m    490\u001b[0m \u001b[43m        \u001b[49m\u001b[43mmemmap\u001b[49m\u001b[38;5;241;43m=\u001b[39;49m\u001b[43mmemmap\u001b[49m\u001b[43m,\u001b[49m\n\u001b[1;32m    491\u001b[0m \u001b[43m        \u001b[49m\u001b[43msave_backup\u001b[49m\u001b[38;5;241;43m=\u001b[39;49m\u001b[43msave_backup\u001b[49m\u001b[43m,\u001b[49m\n\u001b[1;32m    492\u001b[0m \u001b[43m        \u001b[49m\u001b[43mcache\u001b[49m\u001b[38;5;241;43m=\u001b[39;49m\u001b[43mcache\u001b[49m\u001b[43m,\u001b[49m\n\u001b[1;32m    493\u001b[0m \u001b[43m        \u001b[49m\u001b[43mignore_missing_simple\u001b[49m\u001b[38;5;241;43m=\u001b[39;49m\u001b[43mignore_missing_simple\u001b[49m\u001b[43m,\u001b[49m\n\u001b[1;32m    494\u001b[0m \u001b[43m        \u001b[49m\u001b[43mlazy_load_hdus\u001b[49m\u001b[38;5;241;43m=\u001b[39;49m\u001b[43mlazy_load_hdus\u001b[49m\u001b[43m,\u001b[49m\n\u001b[1;32m    495\u001b[0m \u001b[43m        \u001b[49m\u001b[38;5;241;43m*\u001b[39;49m\u001b[38;5;241;43m*\u001b[39;49m\u001b[43mkwargs\u001b[49m\u001b[43m,\u001b[49m\n\u001b[1;32m    496\u001b[0m \u001b[43m    \u001b[49m\u001b[43m)\u001b[49m\n",
      "File \u001b[0;32m/Library/Frameworks/Python.framework/Versions/3.11/lib/python3.11/site-packages/astropy/io/fits/hdu/hdulist.py:1169\u001b[0m, in \u001b[0;36mHDUList._readfrom\u001b[0;34m(cls, fileobj, data, mode, memmap, cache, lazy_load_hdus, ignore_missing_simple, use_fsspec, fsspec_kwargs, decompress_in_memory, **kwargs)\u001b[0m\n\u001b[1;32m   1166\u001b[0m \u001b[38;5;28;01mif\u001b[39;00m fileobj \u001b[38;5;129;01mis\u001b[39;00m \u001b[38;5;129;01mnot\u001b[39;00m \u001b[38;5;28;01mNone\u001b[39;00m:\n\u001b[1;32m   1167\u001b[0m     \u001b[38;5;28;01mif\u001b[39;00m \u001b[38;5;129;01mnot\u001b[39;00m \u001b[38;5;28misinstance\u001b[39m(fileobj, _File):\n\u001b[1;32m   1168\u001b[0m         \u001b[38;5;66;03m# instantiate a FITS file object (ffo)\u001b[39;00m\n\u001b[0;32m-> 1169\u001b[0m         fileobj \u001b[38;5;241m=\u001b[39m \u001b[43m_File\u001b[49m\u001b[43m(\u001b[49m\n\u001b[1;32m   1170\u001b[0m \u001b[43m            \u001b[49m\u001b[43mfileobj\u001b[49m\u001b[43m,\u001b[49m\n\u001b[1;32m   1171\u001b[0m \u001b[43m            \u001b[49m\u001b[43mmode\u001b[49m\u001b[38;5;241;43m=\u001b[39;49m\u001b[43mmode\u001b[49m\u001b[43m,\u001b[49m\n\u001b[1;32m   1172\u001b[0m \u001b[43m            \u001b[49m\u001b[43mmemmap\u001b[49m\u001b[38;5;241;43m=\u001b[39;49m\u001b[43mmemmap\u001b[49m\u001b[43m,\u001b[49m\n\u001b[1;32m   1173\u001b[0m \u001b[43m            \u001b[49m\u001b[43mcache\u001b[49m\u001b[38;5;241;43m=\u001b[39;49m\u001b[43mcache\u001b[49m\u001b[43m,\u001b[49m\n\u001b[1;32m   1174\u001b[0m \u001b[43m            \u001b[49m\u001b[43muse_fsspec\u001b[49m\u001b[38;5;241;43m=\u001b[39;49m\u001b[43muse_fsspec\u001b[49m\u001b[43m,\u001b[49m\n\u001b[1;32m   1175\u001b[0m \u001b[43m            \u001b[49m\u001b[43mfsspec_kwargs\u001b[49m\u001b[38;5;241;43m=\u001b[39;49m\u001b[43mfsspec_kwargs\u001b[49m\u001b[43m,\u001b[49m\n\u001b[1;32m   1176\u001b[0m \u001b[43m            \u001b[49m\u001b[43mdecompress_in_memory\u001b[49m\u001b[38;5;241;43m=\u001b[39;49m\u001b[43mdecompress_in_memory\u001b[49m\u001b[43m,\u001b[49m\n\u001b[1;32m   1177\u001b[0m \u001b[43m        \u001b[49m\u001b[43m)\u001b[49m\n\u001b[1;32m   1178\u001b[0m     \u001b[38;5;66;03m# The Astropy mode is determined by the _File initializer if the\u001b[39;00m\n\u001b[1;32m   1179\u001b[0m     \u001b[38;5;66;03m# supplied mode was None\u001b[39;00m\n\u001b[1;32m   1180\u001b[0m     mode \u001b[38;5;241m=\u001b[39m fileobj\u001b[38;5;241m.\u001b[39mmode\n",
      "File \u001b[0;32m/Library/Frameworks/Python.framework/Versions/3.11/lib/python3.11/site-packages/astropy/io/fits/file.py:218\u001b[0m, in \u001b[0;36m_File.__init__\u001b[0;34m(self, fileobj, mode, memmap, overwrite, cache, use_fsspec, fsspec_kwargs, decompress_in_memory)\u001b[0m\n\u001b[1;32m    216\u001b[0m     \u001b[38;5;28mself\u001b[39m\u001b[38;5;241m.\u001b[39m_open_fileobj(fileobj, mode, overwrite)\n\u001b[1;32m    217\u001b[0m \u001b[38;5;28;01melif\u001b[39;00m \u001b[38;5;28misinstance\u001b[39m(fileobj, (\u001b[38;5;28mstr\u001b[39m, \u001b[38;5;28mbytes\u001b[39m)):\n\u001b[0;32m--> 218\u001b[0m     \u001b[38;5;28;43mself\u001b[39;49m\u001b[38;5;241;43m.\u001b[39;49m\u001b[43m_open_filename\u001b[49m\u001b[43m(\u001b[49m\u001b[43mfileobj\u001b[49m\u001b[43m,\u001b[49m\u001b[43m \u001b[49m\u001b[43mmode\u001b[49m\u001b[43m,\u001b[49m\u001b[43m \u001b[49m\u001b[43moverwrite\u001b[49m\u001b[43m)\u001b[49m\n\u001b[1;32m    219\u001b[0m \u001b[38;5;28;01melse\u001b[39;00m:\n\u001b[1;32m    220\u001b[0m     \u001b[38;5;28mself\u001b[39m\u001b[38;5;241m.\u001b[39m_open_filelike(fileobj, mode, overwrite)\n",
      "File \u001b[0;32m/Library/Frameworks/Python.framework/Versions/3.11/lib/python3.11/site-packages/astropy/io/fits/file.py:651\u001b[0m, in \u001b[0;36m_File._open_filename\u001b[0;34m(self, filename, mode, overwrite)\u001b[0m\n\u001b[1;32m    648\u001b[0m ext \u001b[38;5;241m=\u001b[39m os\u001b[38;5;241m.\u001b[39mpath\u001b[38;5;241m.\u001b[39msplitext(\u001b[38;5;28mself\u001b[39m\u001b[38;5;241m.\u001b[39mname)[\u001b[38;5;241m1\u001b[39m]\n\u001b[1;32m    650\u001b[0m \u001b[38;5;28;01mif\u001b[39;00m \u001b[38;5;129;01mnot\u001b[39;00m \u001b[38;5;28mself\u001b[39m\u001b[38;5;241m.\u001b[39m_try_read_compressed(\u001b[38;5;28mself\u001b[39m\u001b[38;5;241m.\u001b[39mname, magic, mode, ext\u001b[38;5;241m=\u001b[39mext):\n\u001b[0;32m--> 651\u001b[0m     \u001b[38;5;28mself\u001b[39m\u001b[38;5;241m.\u001b[39m_file \u001b[38;5;241m=\u001b[39m \u001b[38;5;28;43mopen\u001b[39;49m\u001b[43m(\u001b[49m\u001b[38;5;28;43mself\u001b[39;49m\u001b[38;5;241;43m.\u001b[39;49m\u001b[43mname\u001b[49m\u001b[43m,\u001b[49m\u001b[43m \u001b[49m\u001b[43mIO_FITS_MODES\u001b[49m\u001b[43m[\u001b[49m\u001b[43mmode\u001b[49m\u001b[43m]\u001b[49m\u001b[43m)\u001b[49m\n\u001b[1;32m    652\u001b[0m     \u001b[38;5;28mself\u001b[39m\u001b[38;5;241m.\u001b[39mclose_on_error \u001b[38;5;241m=\u001b[39m \u001b[38;5;28;01mTrue\u001b[39;00m\n\u001b[1;32m    654\u001b[0m \u001b[38;5;66;03m# Make certain we're back at the beginning of the file\u001b[39;00m\n\u001b[1;32m    655\u001b[0m \u001b[38;5;66;03m# BZ2File does not support seek when the file is open for writing, but\u001b[39;00m\n\u001b[1;32m    656\u001b[0m \u001b[38;5;66;03m# when opening a file for write, bz2.BZ2File always truncates anyway.\u001b[39;00m\n",
      "\u001b[0;31mFileNotFoundError\u001b[0m: [Errno 2] No such file or directory: '/Users/nasserm/Documents/vscode/extragalactic/EG_assignment1/tao_nassmohammed_catalogue_4753/tao.4753.0.fits'"
     ]
    }
   ],
   "source": [
    "from astropy.io import fits\n",
    "\n",
    "# Open the FITS file\n",
    "\n",
    "hdul = fits.open(file_path)\n",
    "\n",
    "# Print the information about the FITS file\n",
    "hdul.info()"
   ]
  },
  {
   "cell_type": "code",
   "execution_count": 3,
   "metadata": {},
   "outputs": [],
   "source": [
    "#save as data_tao\n",
    "data_tao = hdul[1].data\n",
    "#close the file\n",
    "hdul.close()\n",
    "\n"
   ]
  },
  {
   "cell_type": "code",
   "execution_count": 4,
   "metadata": {},
   "outputs": [
    {
     "data": {
      "text/plain": [
       "ColDefs(\n",
       "    name = 'Total_Stellar_Mass'; format = 'D'\n",
       "    name = 'Bulge_Stellar_Mass'; format = 'D'\n",
       "    name = 'Black_Hole_Mass'; format = 'D'\n",
       "    name = 'Cold_Gas_Mass'; format = 'D'\n",
       "    name = 'Hot_Gas_Mass'; format = 'D'\n",
       "    name = 'Ejected_Gas_Mass'; format = 'D'\n",
       "    name = 'Intracluster_Stars_Mass'; format = 'D'\n",
       "    name = 'Metals_Total_Stellar_Mass'; format = 'D'\n",
       "    name = 'Metals_Bulge_Mass'; format = 'D'\n",
       "    name = 'Metals_Cold_Gas_Mass'; format = 'D'\n",
       "    name = 'Metals_Hot_Gas_Mass'; format = 'D'\n",
       "    name = 'Metals_Ejected_Gas_Mass'; format = 'D'\n",
       "    name = 'Metals_IntraCluster_Stars_Mass'; format = 'D'\n",
       "    name = 'Galaxy_Classification'; format = 'J'\n",
       "    name = 'Disk_Scale_Radius'; format = 'D'\n",
       "    name = 'Total_Star_Formation_Rate'; format = 'D'\n",
       "    name = 'Hot_Gas_Cooling_Rate'; format = 'D'\n",
       "    name = 'AGN_Heating_Rate'; format = 'D'\n",
       "    name = 'Quasar_BH_Accretion_Mass'; format = 'D'\n",
       "    name = 'Time_of_Last_Major_Merger'; format = 'D'\n",
       "    name = 'Time_of_Last_Minor_Merger'; format = 'D'\n",
       "    name = 'Supernova_Cold_Gas_Outflow_Rate'; format = 'D'\n",
       "    name = 'Mvir'; format = 'D'\n",
       "    name = 'Rvir'; format = 'D'\n",
       "    name = 'Vvir'; format = 'D'\n",
       "    name = 'Vmax'; format = 'D'\n",
       "    name = 'Velocity_Dispersion'; format = 'D'\n",
       "    name = 'X_Spin'; format = 'D'\n",
       "    name = 'Y_Spin'; format = 'D'\n",
       "    name = 'Z_Spin'; format = 'D'\n",
       "    name = 'Total_Particles'; format = 'J'\n",
       "    name = 'Central_Galaxy_Mvir'; format = 'D'\n",
       "    name = 'Subhalo_Mvir_at_Infall'; format = 'D'\n",
       "    name = 'Subhalo_Vvir_at_Infall'; format = 'D'\n",
       "    name = 'Subhalo_Vmax_at_Infall'; format = 'D'\n",
       "    name = 'Maximum_circular_velocity_of_the_halo'; format = 'D'\n",
       "    name = 'Flyby_Flag'; format = 'J'\n",
       "    name = 'X'; format = 'D'\n",
       "    name = 'Y'; format = 'D'\n",
       "    name = 'Z'; format = 'D'\n",
       "    name = 'X_Velocity'; format = 'D'\n",
       "    name = 'Y_Velocity'; format = 'D'\n",
       "    name = 'Z_Velocity'; format = 'D'\n",
       "    name = 'Snapshot_Number'; format = 'J'\n",
       "    name = 'Galaxy_ID'; format = 'K'\n",
       "    name = 'Central_Galaxy_ID'; format = 'K'\n",
       "    name = 'Simulation_Halo_ID'; format = 'K'\n",
       ")"
      ]
     },
     "execution_count": 4,
     "metadata": {},
     "output_type": "execute_result"
    }
   ],
   "source": [
    "data_tao.columns"
   ]
  },
  {
   "cell_type": "code",
   "execution_count": 5,
   "metadata": {},
   "outputs": [
    {
     "data": {
      "text/plain": [
       "(np.float64(9.13223648071289), np.float64(9.13223648071289), np.float64(0.015462073497474194), np.float64(0.15961836278438568), np.float64(407.3665771484375), np.float64(0.0), np.float64(0.0), np.float64(0.12321759760379791), np.float64(0.12321759760379791), np.float64(0.0010199951939284801), np.float64(0.7220191359519958), np.float64(0.0), np.float64(0.0), np.int32(1), np.float64(0.014833927154541016), np.float64(0.0), np.float64(0.0), np.float64(0.0), np.float64(0.0), np.float64(3044.650146484375), np.float64(3044.650146484375), np.float64(0.0), np.float64(2980.71337890625), np.float64(0.5042197704315186), np.float64(504.2200927734375), np.float64(521.2556762695312), np.float64(304.2757873535156), np.float64(-0.7416958212852478), np.float64(13.135326385498047), np.float64(3.140981912612915), np.int32(34633), np.float64(33993.359375), np.float64(2885.3515625), np.float64(503.705322265625), np.float64(526.3646240234375), np.float64(545.4365234375), np.int32(0), np.float64(6.813869953155518), np.float64(13.940020561218262), np.float64(8.428145408630371), np.float64(-316.2487487792969), np.float64(-936.0225830078125), np.float64(-118.20664978027344), np.int32(63), np.int64(2536), np.int64(0), np.int64(1327572))"
      ]
     },
     "execution_count": 5,
     "metadata": {},
     "output_type": "execute_result"
    }
   ],
   "source": [
    "data_tao[0]"
   ]
  }
 ],
 "metadata": {
  "kernelspec": {
   "display_name": "Python 3",
   "language": "python",
   "name": "python3"
  },
  "language_info": {
   "codemirror_mode": {
    "name": "ipython",
    "version": 3
   },
   "file_extension": ".py",
   "mimetype": "text/x-python",
   "name": "python",
   "nbconvert_exporter": "python",
   "pygments_lexer": "ipython3",
   "version": "3.11.9"
  }
 },
 "nbformat": 4,
 "nbformat_minor": 2
}
