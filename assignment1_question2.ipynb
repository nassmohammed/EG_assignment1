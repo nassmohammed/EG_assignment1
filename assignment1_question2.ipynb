{
 "cells": [
  {
   "cell_type": "markdown",
   "metadata": {},
   "source": [
    "# Assignment 1, Q2, Extragalactic Astronomy\n",
    "Nasser Mohammed\n",
    "\n",
    "Feburary 3rd, 2025\n",
    "\n",
    ">The purpose of this question is to familiarize you with spectral synthesis modelling. Spectral synthesis is an essential tool needed to understand how galaxies evolve"
   ]
  },
  {
   "cell_type": "code",
   "execution_count": 66,
   "metadata": {},
   "outputs": [],
   "source": [
    "import numpy as np\n",
    "import matplotlib.pyplot as plt\n",
    "import astropy.units as u\n",
    "plt.style.use('dark_background')"
   ]
  },
  {
   "cell_type": "code",
   "execution_count": 2,
   "metadata": {},
   "outputs": [],
   "source": [
    "import os\n",
    "os.environ[\"SPS_HOME\"] = \"/Users/nasserm/Documents/vscode/extragalactic/fsps\"\n",
    "from fsps import StellarPopulation as stp\n"
   ]
  },
  {
   "cell_type": "markdown",
   "metadata": {},
   "source": [
    ">Assume that a local galaxy with a stellar mass of $10^{10.4}$ Msun was born at z=5.1, and has been forming\n",
    ">stars with an exponentially declining star formation history with an e-folding timescale of 6 Gyr.\n",
    "\n",
    "Key Values:\n",
    "- Stellar Mass of Galaxy : $10^{10.4}$\n",
    "- Born at z = 5.1\n",
    "- e-folding timescale of 6 Gyr"
   ]
  },
  {
   "cell_type": "markdown",
   "metadata": {},
   "source": [
    "## 2.1\n",
    "\n",
    "> What is the current star-formation rate of the galaxy? What was its star-formation rate at z=3?\n",
    "\n"
   ]
  },
  {
   "cell_type": "code",
   "execution_count": 6,
   "metadata": {},
   "outputs": [
    {
     "data": {
      "text/plain": [
       "np.float64(1.1420877603632642)"
      ]
     },
     "execution_count": 6,
     "metadata": {},
     "output_type": "execute_result"
    }
   ],
   "source": [
    "from astropy.cosmology import Planck18 as cosmo\n",
    "\n",
    "cosmo.age(5.1).value\n"
   ]
  },
  {
   "cell_type": "code",
   "execution_count": 109,
   "metadata": {},
   "outputs": [],
   "source": [
    "sp = stp(compute_vega_mags=False, \n",
    "                            zcontinuous=1, #continuous star formation history, I want exponential. Burst is zcontinous = 0\n",
    "                            sfh=1, \n",
    "                            tau=6,\n",
    "                            sf_start=0,\n",
    "                            logzsol=0.0, \n",
    "                            dust_type=2, \n",
    "                            dust2=0.2,\n",
    "                            tage=5)"
   ]
  },
  {
   "cell_type": "code",
   "execution_count": 13,
   "metadata": {},
   "outputs": [
    {
     "name": "stdout",
     "output_type": "stream",
     "text": [
      "The age of our galaxy today is 12.64 Gyrs\n"
     ]
    }
   ],
   "source": [
    "print(f'The age of our galaxy today is {cosmo.age(0).value-cosmo.age(5.1).value:.4} Gyrs')"
   ]
  },
  {
   "cell_type": "code",
   "execution_count": 45,
   "metadata": {},
   "outputs": [],
   "source": [
    "g_band = ['sdss_g']"
   ]
  },
  {
   "cell_type": "code",
   "execution_count": 84,
   "metadata": {},
   "outputs": [
    {
     "data": {
      "text/plain": [
       "array([27.35242888])"
      ]
     },
     "execution_count": 84,
     "metadata": {},
     "output_type": "execute_result"
    }
   ],
   "source": [
    "#Making it the mass of the MW\n",
    "\n",
    "-2.5*np.log10(10**12) + sp.get_mags(tage=12.64,\n",
    "                                        redshift=5.1, \n",
    "                                        bands=g_band)"
   ]
  },
  {
   "cell_type": "code",
   "execution_count": 110,
   "metadata": {},
   "outputs": [
    {
     "data": {
      "text/plain": [
       "np.float64(1.0)"
      ]
     },
     "execution_count": 110,
     "metadata": {},
     "output_type": "execute_result"
    }
   ],
   "source": [
    "sp.formed_mass"
   ]
  },
  {
   "cell_type": "code",
   "execution_count": 81,
   "metadata": {},
   "outputs": [
    {
     "name": "stdout",
     "output_type": "stream",
     "text": [
      "Current star formation rate (z=0): 576.99 M☉/year\n",
      "Star formation rate at z=3: 23.04 M☉/year\n",
      "Galaxy age at z=3: 1.00 Gyr\n",
      "Galaxy age now (z=0): 12.64 Gyr\n"
     ]
    }
   ],
   "source": [
    "# Calculate the age of the universe at z=0 (now) and z=3\n",
    "age_now = cosmo.age(0).value  # Age of the universe now in Gyr\n",
    "age_at_z3 = cosmo.age(3).value  # Age of the universe at z=3 in Gyr\n",
    "age_at_birth = cosmo.age(5.1).value  # Age of the universe when galaxy was born\n",
    "\n",
    "# Calculate the age of the galaxy now and at z=3\n",
    "galaxy_age_now = age_now - age_at_birth  # Galaxy's age now in Gyr\n",
    "galaxy_age_at_z3 = age_at_z3 - age_at_birth  # Galaxy's age at z=3 in Gyr\n",
    "\n",
    "# Get the star formation rate based on the exponentially declining model\n",
    "# SFR(t) ∝ exp(-t/τ) where τ is the e-folding timescale (6 Gyr)\n",
    "# Normalize by the total stellar mass of 10^10.4 M☉\n",
    "\n",
    "# Get the current SFR at z=0 using the get_sfr method\n",
    "sp.params['tau'] = 6  # Make sure tau is set to 6 Gyr\n",
    "current_sfr = sp.sfr * (10**10.4)  # in M☉/yr\n",
    "\n",
    "# Get the SFR at z=3\n",
    "sp.params['sfh'] = 1  # Make sure we're using exponential decline model\n",
    "# Store current age\n",
    "current_age = sp.params['tage']\n",
    "# Set the age to galaxy's age at z=3\n",
    "sp.params['tage'] = galaxy_age_at_z3\n",
    "# Get SFR at z=3\n",
    "sfr_at_z3 = sp.sfr * (10**10.4)  # in M☉/yr\n",
    "# Restore original age\n",
    "sp.params['tage'] = current_age\n",
    "\n",
    "print(f\"Current star formation rate (z=0): {current_sfr:.2f} M☉/year\")\n",
    "print(f\"Star formation rate at z=3: {sfr_at_z3:.2f} M☉/year\")\n",
    "print(f\"Galaxy age at z=3: {galaxy_age_at_z3:.2f} Gyr\")\n",
    "print(f\"Galaxy age now (z=0): {galaxy_age_now:.2f} Gyr\")"
   ]
  },
  {
   "cell_type": "code",
   "execution_count": null,
   "metadata": {},
   "outputs": [
    {
     "ename": "AttributeError",
     "evalue": "'StellarPopulation' object has no attribute 'get_sfr'",
     "output_type": "error",
     "traceback": [
      "\u001b[0;31m---------------------------------------------------------------------------\u001b[0m",
      "\u001b[0;31mAttributeError\u001b[0m                            Traceback (most recent call last)",
      "Cell \u001b[0;32mIn[99], line 1\u001b[0m\n\u001b[0;32m----> 1\u001b[0m \u001b[43msp\u001b[49m\u001b[38;5;241;43m.\u001b[39;49m\u001b[43mget_sfr\u001b[49m\n",
      "\u001b[0;31mAttributeError\u001b[0m: 'StellarPopulation' object has no attribute 'get_sfr'"
     ]
    }
   ],
   "source": [
    "sp.formed_mass"
   ]
  },
  {
   "cell_type": "markdown",
   "metadata": {},
   "source": [
    "## 2.2\n",
    "> Plot the rest frame g-band magnitude of the galaxy as a function of redshift, from z=0.1 to z=5.\n",
    "\n",
    "- Could mean that I want the magnitude as a function of red shift, aka moving a galaxy of age X from z=0.1 to z=5\n",
    "- or, galaxy is age X at z=5, and it age Y at z=0.1, and it is forming stars throughout this time\n",
    "    - the latter has more to do with star forming history, but the former is easier\n"
   ]
  },
  {
   "cell_type": "code",
   "execution_count": 90,
   "metadata": {},
   "outputs": [],
   "source": [
    "z_array = np.linspace(0.1, 4.95, 500)\n",
    "\n",
    "g_band_mag_z = np.asarray([-2.5*np.log10(10**10.4) + sp.get_mags(tage=cosmo.age(z).value-cosmo.age(5.1).value,\n",
    "                                        redshift=z, \n",
    "                                        bands=g_band) for z in z_array])\n",
    "\n"
   ]
  },
  {
   "cell_type": "code",
   "execution_count": 91,
   "metadata": {},
   "outputs": [
    {
     "data": {
      "image/png": "[encoded data removed]",
      "text/plain": [
       "<Figure size 600x400 with 1 Axes>"
      ]
     },
     "metadata": {},
     "output_type": "display_data"
    }
   ],
   "source": [
    "plt.figure(figsize=(6, 4))\n",
    "plt.plot(z_array, g_band_mag_z, c='b')\n",
    "plt.xlabel(r'$z$')\n",
    "plt.ylabel(r'g-band magnitude')\n",
    "plt.tick_params(direction='in')\n",
    "plt.grid(ls = '-.', alpha=0.5)\n",
    "plt.gca().invert_yaxis()\n"
   ]
  },
  {
   "cell_type": "markdown",
   "metadata": {},
   "source": [
    "## 2.3\n",
    "> Plot the rest frame (g-r) color of the galaxy as a function of redshift over range z=0.1 to z=5.\n"
   ]
  },
  {
   "cell_type": "code",
   "execution_count": null,
   "metadata": {},
   "outputs": [],
   "source": [
    "\n",
    "r_band = ['sdss_r']\n",
    "\n",
    "r_band_mag_z = np.asarray([-2.5*np.log10(10**10.4) + sp.get_mags(tage=cosmo.age(z).value-cosmo.age(5.1).value,\n",
    "                                        redshift=z, \n",
    "                                        bands=r_band) for z in z_array])\n",
    "\n"
   ]
  },
  {
   "cell_type": "code",
   "execution_count": 60,
   "metadata": {},
   "outputs": [
    {
     "data": {
      "image/png": "[encoded data removed]",
      "text/plain": [
       "<Figure size 600x400 with 1 Axes>"
      ]
     },
     "metadata": {},
     "output_type": "display_data"
    }
   ],
   "source": [
    "plt.figure(figsize=(6, 4))\n",
    "plt.plot(z_array, g_band_mag_z-r_band_mag_z, c='b')\n",
    "plt.xlabel(r'$z$')\n",
    "plt.ylabel(r'g-r Colour')\n",
    "plt.tick_params(direction='in')\n",
    "plt.grid(ls = '-.', alpha=0.5)\n",
    "plt.gca().invert_yaxis()\n"
   ]
  },
  {
   "cell_type": "markdown",
   "metadata": {},
   "source": [
    "## 2.4\n",
    "\n",
    ">  Repeat 1-3 above assuming the galaxy’s star-formation history had an e-folding timescale of 0.5 Gyr."
   ]
  }
 ],
 "metadata": {
  "kernelspec": {
   "display_name": "Python 3",
   "language": "python",
   "name": "python3"
  },
  "language_info": {
   "codemirror_mode": {
    "name": "ipython",
    "version": 3
   },
   "file_extension": ".py",
   "mimetype": "text/x-python",
   "name": "python",
   "nbconvert_exporter": "python",
   "pygments_lexer": "ipython3",
   "version": "3.11.9"
  }
 },
 "nbformat": 4,
 "nbformat_minor": 2
}
