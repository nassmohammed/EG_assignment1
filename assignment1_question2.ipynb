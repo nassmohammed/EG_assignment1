{
 "cells": [
  {
   "cell_type": "markdown",
   "metadata": {},
   "source": [
    "# Assignment 1, Q2, Extragalactic Astronomy\n",
    "Nasser Mohammed\n",
    "\n",
    "Feburary 3rd, 2025\n",
    "\n",
    ">The purpose of this question is to familiarize you with spectral synthesis modelling. Spectral synthesis is an essential tool needed to understand how galaxies evolve"
   ]
  },
  {
   "cell_type": "code",
   "execution_count": 4,
   "metadata": {},
   "outputs": [],
   "source": [
    "import numpy as np\n",
    "import matplotlib.pyplot as plt\n",
    "import astropy.units as u\n",
    "plt.style.use('dark_background')"
   ]
  },
  {
   "cell_type": "code",
   "execution_count": 5,
   "metadata": {},
   "outputs": [],
   "source": [
    "import os\n",
    "os.environ[\"SPS_HOME\"] = \"/Users/nasserm/Documents/vscode/extragalactic/fsps\"\n",
    "from fsps import StellarPopulation as stp\n"
   ]
  },
  {
   "cell_type": "markdown",
   "metadata": {},
   "source": [
    ">Assume that a local galaxy with a stellar mass of $10^{10.4}$ Msun was born at z=5.1, and has been forming\n",
    ">stars with an exponentially declining star formation history with an e-folding timescale of 6 Gyr.\n",
    "\n",
    "Key Values:\n",
    "- Stellar Mass of Galaxy : $10^{10.4}$\n",
    "- Born at z = 5.1\n",
    "- e-folding timescale of 6 Gyr"
   ]
  },
  {
   "cell_type": "markdown",
   "metadata": {},
   "source": [
    "## 2.1\n",
    "\n",
    "> What is the current star-formation rate of the galaxy? What was its star-formation rate at z=3?\n",
    "\n",
    "From (Conroy, Gunn, & White, 2009), equation 5,\n",
    "\n",
    "$$\\Psi(t) = \\frac{1-C}{\\tau} \\frac{e^{-t/\\tau}}{e^{-T_{\\text{start}}/\\tau} - e^{-T_{\\text{univ}}/\\tau}}+\\frac{C}{T_{\\text{univ}}-T_{\\text{start}}},$$\n",
    "\n",
    "gives us the star formation rate that commenced at some epoch $T_\\text{start}$. C is the fraction of mass formed in a constant mode of star formation, and we will set this to 0 because we are modelling an exponentially declining star formation history. $\\tau$ is the e-folding timescale, for this question it is 6 GYr. Because this is currently normalized such that 1 M $_{\\odot}$ is formed by T $_\\text{univ}$, we will multiply $\\Psi(t)$ by $10^{10.4} \\text{M}_{\\odot}$."
   ]
  },
  {
   "cell_type": "code",
   "execution_count": 17,
   "metadata": {},
   "outputs": [],
   "source": [
    "def Psi_t(t, tau, T_start, T_univ):\n",
    "    return 1/tau * np.exp(-t/tau)/(np.exp(-T_start/tau) - np.exp(-T_univ/tau))"
   ]
  },
  {
   "cell_type": "code",
   "execution_count": 26,
   "metadata": {},
   "outputs": [
    {
     "name": "stdout",
     "output_type": "stream",
     "text": [
      "the normalized star forming rate at z=0 is: 2.322e-02 solar masses per year\n",
      "the normalized star forming rate at z=3 is: 1.603e-01 solar masses per year\n"
     ]
    }
   ],
   "source": [
    "from astropy.cosmology import WMAP9 as cosmo\n",
    "\n",
    "T_start = cosmo.age(5.1).value\n",
    "T_univ_today = cosmo.age(0).value\n",
    "T_univ_z3 = cosmo.age(3).value\n",
    "tau = 6\n",
    "\n",
    "sfr_z0 = Psi_t(T_univ_today, tau, T_start, T_univ_today)\n",
    "sfr_z3 = Psi_t(T_univ_z3, tau, T_start, T_univ_today)\n",
    "\n",
    "print(f'the normalized star forming rate at z=0 is: {sfr_z0:.3e} solar masses per year')\n",
    "print(f'the normalized star forming rate at z=3 is: {sfr_z3:.3e} solar masses per year')"
   ]
  },
  {
   "cell_type": "code",
   "execution_count": 34,
   "metadata": {},
   "outputs": [],
   "source": [
    "sp = stp(compute_vega_mags=False, \n",
    "                            zcontinuous=0, #continuous star formation history, I want exponential. Burst is zcontinous = 0\n",
    "                            sfh=1, \n",
    "                            tau=6,\n",
    "                            sf_start=0,\n",
    "                            logzsol=0.0, \n",
    "                            dust_type=2, \n",
    "                            dust2=0.2,\n",
    "                            tage=cosmo.age(0).value-cosmo.age(5.1).value)"
   ]
  },
  {
   "cell_type": "code",
   "execution_count": null,
   "metadata": {},
   "outputs": [],
   "source": [
    "sp.sfr_age(times=())"
   ]
  },
  {
   "cell_type": "code",
   "execution_count": 41,
   "metadata": {},
   "outputs": [
    {
     "data": {
      "text/plain": [
       "np.float64(1.2810895869276086e-10)"
      ]
     },
     "execution_count": 41,
     "metadata": {},
     "output_type": "execute_result"
    }
   ],
   "source": [
    "sp.sfr"
   ]
  },
  {
   "cell_type": "code",
   "execution_count": 35,
   "metadata": {},
   "outputs": [
    {
     "name": "stdout",
     "output_type": "stream",
     "text": [
      "The age of our galaxy today is 12.61 Gyrs\n"
     ]
    }
   ],
   "source": [
    "print(f'The age of our galaxy today is {cosmo.age(0).value-cosmo.age(5.1).value:.4} Gyrs')"
   ]
  },
  {
   "cell_type": "code",
   "execution_count": null,
   "metadata": {},
   "outputs": [],
   "source": [
    "fluxes = 10 ** (-0.4 * np.array(magnitudes))\n",
    "\n",
    "# Sum the fluxes\n",
    "total_flux = np.sum(fluxes)\n",
    "\n",
    "# Convert the total flux back to magnitude\n",
    "summed_magnitude = -2.5 * np.log10(total_flux)\n",
    "\n",
    "print(f\"Summed Magnitude: {summed_magnitude}\")"
   ]
  },
  {
   "cell_type": "code",
   "execution_count": 23,
   "metadata": {},
   "outputs": [],
   "source": [
    "g_band = ['sdss_g']"
   ]
  },
  {
   "cell_type": "code",
   "execution_count": 29,
   "metadata": {},
   "outputs": [
    {
     "data": {
      "text/plain": [
       "array([31.59053651])"
      ]
     },
     "execution_count": 29,
     "metadata": {},
     "output_type": "execute_result"
    }
   ],
   "source": [
    "#Making it the mass of the MW\n",
    "\n",
    "-2.5*np.log10(10**10.4) + sp.get_mags(tage=12.64,\n",
    "                                        redshift=5.1, \n",
    "                                        bands=g_band)"
   ]
  },
  {
   "cell_type": "code",
   "execution_count": 110,
   "metadata": {},
   "outputs": [
    {
     "data": {
      "text/plain": [
       "np.float64(1.0)"
      ]
     },
     "execution_count": 110,
     "metadata": {},
     "output_type": "execute_result"
    }
   ],
   "source": [
    "sp.formed_mass"
   ]
  },
  {
   "cell_type": "code",
   "execution_count": 30,
   "metadata": {},
   "outputs": [
    {
     "name": "stdout",
     "output_type": "stream",
     "text": [
      "Current star formation rate (z=0): 0.58 M☉/year\n",
      "Star formation rate at z=3: 22.66 M☉/year\n",
      "Galaxy age at z=3: 1.02 Gyr\n",
      "Galaxy age now (z=0): 12.61 Gyr\n"
     ]
    }
   ],
   "source": [
    "# Calculate the age of the universe at z=0 (now) and z=3\n",
    "age_now = cosmo.age(0).value  # Age of the universe now in Gyr\n",
    "age_at_z3 = cosmo.age(3).value  # Age of the universe at z=3 in Gyr\n",
    "age_at_birth = cosmo.age(5.1).value  # Age of the universe when galaxy was born\n",
    "\n",
    "# Calculate the age of the galaxy now and at z=3\n",
    "galaxy_age_now = age_now - age_at_birth  # Galaxy's age now in Gyr\n",
    "galaxy_age_at_z3 = age_at_z3 - age_at_birth  # Galaxy's age at z=3 in Gyr\n",
    "\n",
    "# Get the star formation rate based on the exponentially declining model\n",
    "# SFR(t) ∝ exp(-t/τ) where τ is the e-folding timescale (6 Gyr)\n",
    "# Normalize by the total stellar mass of 10^10.4 M☉\n",
    "\n",
    "# Get the current SFR at z=0 using the get_sfr method\n",
    "sp.params['tau'] = 6  # Make sure tau is set to 6 Gyr\n",
    "current_sfr = sp.sfr * (10**10.4)  # in M☉/yr\n",
    "\n",
    "# Get the SFR at z=3\n",
    "sp.params['sfh'] = 1  # Make sure we're using exponential decline model\n",
    "# Store current age\n",
    "current_age = sp.params['tage']\n",
    "# Set the age to galaxy's age at z=3\n",
    "sp.params['tage'] = galaxy_age_at_z3\n",
    "# Get SFR at z=3\n",
    "sfr_at_z3 = sp.sfr * (10**10.4)  # in M☉/yr\n",
    "# Restore original age\n",
    "sp.params['tage'] = current_age\n",
    "\n",
    "print(f\"Current star formation rate (z=0): {current_sfr:.2f} M☉/year\")\n",
    "print(f\"Star formation rate at z=3: {sfr_at_z3:.2f} M☉/year\")\n",
    "print(f\"Galaxy age at z=3: {galaxy_age_at_z3:.2f} Gyr\")\n",
    "print(f\"Galaxy age now (z=0): {galaxy_age_now:.2f} Gyr\")"
   ]
  },
  {
   "cell_type": "code",
   "execution_count": null,
   "metadata": {},
   "outputs": [
    {
     "ename": "AttributeError",
     "evalue": "'StellarPopulation' object has no attribute 'get_sfr'",
     "output_type": "error",
     "traceback": [
      "\u001b[0;31m---------------------------------------------------------------------------\u001b[0m",
      "\u001b[0;31mAttributeError\u001b[0m                            Traceback (most recent call last)",
      "Cell \u001b[0;32mIn[99], line 1\u001b[0m\n\u001b[0;32m----> 1\u001b[0m \u001b[43msp\u001b[49m\u001b[38;5;241;43m.\u001b[39;49m\u001b[43mget_sfr\u001b[49m\n",
      "\u001b[0;31mAttributeError\u001b[0m: 'StellarPopulation' object has no attribute 'get_sfr'"
     ]
    }
   ],
   "source": [
    "sp.formed_mass"
   ]
  },
  {
   "cell_type": "markdown",
   "metadata": {},
   "source": [
    "## 2.2\n",
    "> Plot the rest frame g-band magnitude of the galaxy as a function of redshift, from z=0.1 to z=5.\n",
    "\n",
    "- Could mean that I want the magnitude as a function of red shift, aka moving a galaxy of age X from z=0.1 to z=5\n",
    "- or, galaxy is age X at z=5, and it age Y at z=0.1, and it is forming stars throughout this time\n",
    "    - the latter has more to do with star forming history, but the former is easier\n"
   ]
  },
  {
   "cell_type": "code",
   "execution_count": 31,
   "metadata": {},
   "outputs": [],
   "source": [
    "z_array = np.linspace(0.1, 4.95, 500)\n",
    "\n",
    "g_band_mag_z = np.asarray([-2.5*np.log10(10**10.4) + sp.get_mags(tage=cosmo.age(z).value-cosmo.age(5.1).value,\n",
    "                                        redshift=z, \n",
    "                                        bands=g_band) for z in z_array])\n",
    "\n"
   ]
  },
  {
   "cell_type": "code",
   "execution_count": 32,
   "metadata": {},
   "outputs": [
    {
     "data": {
      "image/png": "[encoded data removed]",
      "text/plain": [
       "<Figure size 600x400 with 1 Axes>"
      ]
     },
     "metadata": {},
     "output_type": "display_data"
    }
   ],
   "source": [
    "plt.figure(figsize=(6, 4))\n",
    "plt.plot(z_array, g_band_mag_z, c='b')\n",
    "plt.xlabel(r'$z$')\n",
    "plt.ylabel(r'g-band magnitude')\n",
    "plt.tick_params(direction='in')\n",
    "plt.grid(ls = '-.', alpha=0.5)\n",
    "plt.gca().invert_yaxis()\n"
   ]
  },
  {
   "cell_type": "markdown",
   "metadata": {},
   "source": [
    "## 2.3\n",
    "> Plot the rest frame (g-r) color of the galaxy as a function of redshift over range z=0.1 to z=5.\n"
   ]
  },
  {
   "cell_type": "code",
   "execution_count": 33,
   "metadata": {},
   "outputs": [],
   "source": [
    "\n",
    "r_band = ['sdss_r']\n",
    "\n",
    "r_band_mag_z = np.asarray([-2.5*np.log10(10**10.4) + sp.get_mags(tage=cosmo.age(z).value-cosmo.age(5.1).value,\n",
    "                                        redshift=z, \n",
    "                                        bands=r_band) for z in z_array])\n",
    "\n"
   ]
  },
  {
   "cell_type": "code",
   "execution_count": 60,
   "metadata": {},
   "outputs": [
    {
     "data": {
      "image/png": "[encoded data removed]",
      "text/plain": [
       "<Figure size 600x400 with 1 Axes>"
      ]
     },
     "metadata": {},
     "output_type": "display_data"
    }
   ],
   "source": [
    "plt.figure(figsize=(6, 4))\n",
    "plt.plot(z_array, g_band_mag_z-r_band_mag_z, c='b')\n",
    "plt.xlabel(r'$z$')\n",
    "plt.ylabel(r'g-r Colour')\n",
    "plt.tick_params(direction='in')\n",
    "plt.grid(ls = '-.', alpha=0.5)\n",
    "plt.gca().invert_yaxis()\n"
   ]
  },
  {
   "cell_type": "markdown",
   "metadata": {},
   "source": [
    "## 2.4\n",
    "\n",
    ">  Repeat 1-3 above assuming the galaxy’s star-formation history had an e-folding timescale of 0.5 Gyr."
   ]
  }
 ],
 "metadata": {
  "kernelspec": {
   "display_name": "Python 3",
   "language": "python",
   "name": "python3"
  },
  "language_info": {
   "codemirror_mode": {
    "name": "ipython",
    "version": 3
   },
   "file_extension": ".py",
   "mimetype": "text/x-python",
   "name": "python",
   "nbconvert_exporter": "python",
   "pygments_lexer": "ipython3",
   "version": "3.11.9"
  }
 },
 "nbformat": 4,
 "nbformat_minor": 2
}
